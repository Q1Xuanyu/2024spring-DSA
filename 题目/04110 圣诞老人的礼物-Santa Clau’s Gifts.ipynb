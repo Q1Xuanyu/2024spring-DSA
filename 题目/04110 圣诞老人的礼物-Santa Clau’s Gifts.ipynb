{
 "cells": [
  {
   "cell_type": "code",
   "execution_count": 13,
   "metadata": {},
   "outputs": [
    {
     "name": "stdout",
     "output_type": "stream",
     "text": [
      "1193.0\n"
     ]
    }
   ],
   "source": [
    "n,w=map(int,input().split())\n",
    "List=[]\n",
    "for i in range(n):\n",
    "    a,b=map(int,input().split())\n",
    "    List.append((a/b,b))\n",
    "List=sorted(List,key=lambda x:x[0],reverse=True)\n",
    "\n",
    "Value=0\n",
    "for i in range(n):\n",
    "    Value+=List[i][0]*min(w,List[i][1])\n",
    "    w-=List[i][1]\n",
    "    if w<0:\n",
    "        break\n",
    "print(f'{Value:0.1f}')"
   ]
  }
 ],
 "metadata": {
  "kernelspec": {
   "display_name": "Python 3",
   "language": "python",
   "name": "python3"
  },
  "language_info": {
   "codemirror_mode": {
    "name": "ipython",
    "version": 3
   },
   "file_extension": ".py",
   "mimetype": "text/x-python",
   "name": "python",
   "nbconvert_exporter": "python",
   "pygments_lexer": "ipython3",
   "version": "3.11.3"
  }
 },
 "nbformat": 4,
 "nbformat_minor": 2
}
