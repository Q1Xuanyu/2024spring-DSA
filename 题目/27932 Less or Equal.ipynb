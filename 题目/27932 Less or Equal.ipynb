{
 "cells": [
  {
   "cell_type": "code",
   "execution_count": null,
   "metadata": {},
   "outputs": [],
   "source": [
    "def mergeSort(arr):\n",
    "\tif len(arr) > 1:\n",
    "\t\tmid = len(arr)//2\n",
    "\n",
    "\t\tL = arr[:mid]\t# Dividing the array elements\n",
    "\t\tR = arr[mid:] # Into 2 halves\n",
    "\n",
    "\t\tmergeSort(L) # Sorting the first half\n",
    "\t\tmergeSort(R) # Sorting the second half\n",
    "\n",
    "\t\ti = j = k = 0\n",
    "\t\t# Copy data to temp arrays L[] and R[]\n",
    "\t\twhile i < len(L) and j < len(R):\n",
    "\t\t\tif L[i] <= R[j]:\n",
    "\t\t\t\tarr[k] = L[i]\n",
    "\t\t\t\ti += 1\n",
    "\t\t\telse:\n",
    "\t\t\t\tarr[k] = R[j]\n",
    "\t\t\t\tj += 1\n",
    "\t\t\tk += 1\n",
    "\n",
    "\t\t# Checking if any element was left\n",
    "\t\twhile i < len(L):\n",
    "\t\t\tarr[k] = L[i]\n",
    "\t\t\ti += 1\n",
    "\t\t\tk += 1\n",
    "\n",
    "\t\twhile j < len(R):\n",
    "\t\t\tarr[k] = R[j]\n",
    "\t\t\tj += 1\n",
    "\t\t\tk += 1\n",
    "\n",
    "n,k=map(int,input().split())\n",
    "arr=[int(i) for i in input().split()]\n",
    "mergeSort(arr)\n",
    "if ((k<len(arr)) & (arr[k-1]<arr[k])) | (k==len(arr)):\n",
    "    print(arr[k-1])\n",
    "elif k==0 & arr[0]>1:\n",
    "    print(1)\n",
    "else:\n",
    "    print(-1)"
   ]
  },
  {
   "cell_type": "code",
   "execution_count": 2,
   "metadata": {},
   "outputs": [
    {
     "name": "stdout",
     "output_type": "stream",
     "text": [
      "2\n"
     ]
    }
   ],
   "source": [
    "n,k=map(int,input().split())\n",
    "arr=[int(i) for i in input().split()]\n",
    "arr.sort()\n",
    "if k==n:\n",
    "    print(arr[k-1])\n",
    "elif k==0:\n",
    "    if arr[0]>1:\n",
    "        print(1)\n",
    "    else:\n",
    "        print(-1)\n",
    "elif arr[k-1]<arr[k]:\n",
    "    print(arr[k-1])\n",
    "else:\n",
    "    print(-1)"
   ]
  },
  {
   "cell_type": "code",
   "execution_count": null,
   "metadata": {},
   "outputs": [],
   "source": [
    "n, k = map(int, input().split())\n",
    "\n",
    "a = list(map(int, input().split()))\n",
    "a.sort()\n",
    "\n",
    "# 寻找 x\n",
    "if k == 0:\n",
    "    x = 1 if a[0] > 1 else -1\n",
    "elif k == n:\n",
    "    x = a[-1]\n",
    "else:\n",
    "    # 检查第 k 个元素是否是唯一满足条件的\n",
    "    x = a[k-1] if a[k-1] < a[k] else -1\n",
    "\n",
    "print(x)"
   ]
  }
 ],
 "metadata": {
  "kernelspec": {
   "display_name": "Python 3",
   "language": "python",
   "name": "python3"
  },
  "language_info": {
   "codemirror_mode": {
    "name": "ipython",
    "version": 3
   },
   "file_extension": ".py",
   "mimetype": "text/x-python",
   "name": "python",
   "nbconvert_exporter": "python",
   "pygments_lexer": "ipython3",
   "version": "3.11.3"
  }
 },
 "nbformat": 4,
 "nbformat_minor": 2
}
