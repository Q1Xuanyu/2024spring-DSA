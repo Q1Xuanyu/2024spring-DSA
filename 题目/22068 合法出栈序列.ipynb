{
 "cells": [
  {
   "cell_type": "code",
   "execution_count": null,
   "metadata": {},
   "outputs": [],
   "source": [
    "# WA\n",
    "\n",
    "x=input()\n",
    "dic={}\n",
    "for i in range(len(x)):\n",
    "    dic[x[i]]=i\n",
    "\n",
    "while True:\n",
    "    y=input()\n",
    "    if y=='':\n",
    "        break\n",
    "    \n",
    "    flag=0\n",
    "    l=[]\n",
    "    for c in y:\n",
    "        l.append(dic[c])\n",
    "    \n",
    "    for i in range(1,len(l)-1):\n",
    "        if (l[i-1]>l[i+1]) & (l[i+1]>l[i]):\n",
    "            flag=1\n",
    "            break\n",
    "    if flag:\n",
    "        print('NO')\n",
    "    else:\n",
    "        print('YES')"
   ]
  },
  {
   "cell_type": "code",
   "execution_count": null,
   "metadata": {},
   "outputs": [],
   "source": [
    "def validout(l0, l1):\n",
    "    stack = []\n",
    "    i = 0\n",
    "    if len(l0)!=len(l1):\n",
    "        return False\n",
    "    else:\n",
    "        for j in l0:\n",
    "            stack.append(j)\n",
    "            while stack and stack[-1] == l1[i]:\n",
    "                stack.pop()\n",
    "                i += 1\n",
    "        return not stack\n",
    "\n",
    "X = input()\n",
    "l0 = []\n",
    "for i in range(len(X)):\n",
    "    l0.append(X[i])\n",
    "\n",
    "while True:\n",
    "    try:\n",
    "        xl = input()\n",
    "        l1 = []\n",
    "        for i in range(len(xl)):\n",
    "            l1.append(xl[i])\n",
    "        if validout(l0, l1):\n",
    "            print('YES')\n",
    "        else:\n",
    "            print('NO')\n",
    "    except EOFError:\n",
    "        break"
   ]
  }
 ],
 "metadata": {
  "kernelspec": {
   "display_name": "Python 3",
   "language": "python",
   "name": "python3"
  },
  "language_info": {
   "codemirror_mode": {
    "name": "ipython",
    "version": 3
   },
   "file_extension": ".py",
   "mimetype": "text/x-python",
   "name": "python",
   "nbconvert_exporter": "python",
   "pygments_lexer": "ipython3",
   "version": "3.11.3"
  }
 },
 "nbformat": 4,
 "nbformat_minor": 2
}
