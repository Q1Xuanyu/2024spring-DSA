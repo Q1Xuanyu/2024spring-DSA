{
 "cells": [
  {
   "cell_type": "code",
   "execution_count": 15,
   "metadata": {},
   "outputs": [
    {
     "name": "stdout",
     "output_type": "stream",
     "text": [
      "Case 1: the next triple peak occurs in 21252 days.\n",
      "Case 2: the next triple peak occurs in 21152 days.\n",
      "Case 3: the next triple peak occurs in 19575 days.\n",
      "Case 4: the next triple peak occurs in 16994 days.\n",
      "Case 5: the next triple peak occurs in 8910 days.\n",
      "Case 6: the next triple peak occurs in 10789 days.\n"
     ]
    }
   ],
   "source": [
    "n=0\n",
    "while True:\n",
    "    n+=1\n",
    "    try:\n",
    "        p,e,i,d=map(int,input().split())\n",
    "    except EOFError:\n",
    "        break\n",
    "    if (p,e,i,d)==(-1,-1,-1,-1):\n",
    "        break\n",
    "    p%=23\n",
    "    e%=28\n",
    "    i%=33\n",
    "    for k in range(1,23*28*33+1):\n",
    "        if ((k-p)%23==0) & ((k-e)%28==0) & ((k-i)%33==0):\n",
    "            if k>d:\n",
    "                print(f'Case {n}: the next triple peak occurs in {k-d} days.')\n",
    "            else:\n",
    "                print(f'Case {n}: the next triple peak occurs in {k+21252-d} days.')"
   ]
  },
  {
   "cell_type": "code",
   "execution_count": 16,
   "metadata": {},
   "outputs": [
    {
     "data": {
      "text/plain": [
       "True"
      ]
     },
     "execution_count": 16,
     "metadata": {},
     "output_type": "execute_result"
    }
   ],
   "source": [
    "23%23==0 & 23%28==0 & 23%23==0 "
   ]
  },
  {
   "cell_type": "code",
   "execution_count": 4,
   "metadata": {},
   "outputs": [
    {
     "name": "stdout",
     "output_type": "stream",
     "text": [
      "Case 1: the next triple peak occurs in 21252 days.\n"
     ]
    },
    {
     "ename": "ValueError",
     "evalue": "not enough values to unpack (expected 4, got 0)",
     "output_type": "error",
     "traceback": [
      "\u001b[1;31m---------------------------------------------------------------------------\u001b[0m",
      "\u001b[1;31mValueError\u001b[0m                                Traceback (most recent call last)",
      "Cell \u001b[1;32mIn[4], line 29\u001b[0m\n\u001b[0;32m     27\u001b[0m n \u001b[38;5;241m=\u001b[39m \u001b[38;5;241m1\u001b[39m\n\u001b[0;32m     28\u001b[0m \u001b[38;5;28;01mwhile\u001b[39;00m flag:\n\u001b[1;32m---> 29\u001b[0m     \u001b[43mmain\u001b[49m\u001b[43m(\u001b[49m\u001b[43mn\u001b[49m\u001b[43m)\u001b[49m\n\u001b[0;32m     30\u001b[0m     n \u001b[38;5;241m+\u001b[39m\u001b[38;5;241m=\u001b[39m \u001b[38;5;241m1\u001b[39m\n",
      "Cell \u001b[1;32mIn[4], line 2\u001b[0m, in \u001b[0;36mmain\u001b[1;34m(n)\u001b[0m\n\u001b[0;32m      1\u001b[0m \u001b[38;5;28;01mdef\u001b[39;00m \u001b[38;5;21mmain\u001b[39m (n) :\n\u001b[1;32m----> 2\u001b[0m     p, e, i, d \u001b[38;5;241m=\u001b[39m [\u001b[38;5;28mint\u001b[39m(x) \u001b[38;5;28;01mfor\u001b[39;00m x \u001b[38;5;129;01min\u001b[39;00m \u001b[38;5;28minput\u001b[39m()\u001b[38;5;241m.\u001b[39m split()]\n\u001b[0;32m      3\u001b[0m     \u001b[38;5;28;01mif\u001b[39;00m (p, e, i, d) \u001b[38;5;241m==\u001b[39m (\u001b[38;5;241m-\u001b[39m\u001b[38;5;241m1\u001b[39m, \u001b[38;5;241m-\u001b[39m\u001b[38;5;241m1\u001b[39m, \u001b[38;5;241m-\u001b[39m\u001b[38;5;241m1\u001b[39m, \u001b[38;5;241m-\u001b[39m\u001b[38;5;241m1\u001b[39m) :\n\u001b[0;32m      4\u001b[0m         flag \u001b[38;5;241m=\u001b[39m \u001b[38;5;28;01mFalse\u001b[39;00m\n",
      "\u001b[1;31mValueError\u001b[0m: not enough values to unpack (expected 4, got 0)"
     ]
    }
   ],
   "source": [
    "def main (n) :\n",
    "    p, e, i, d = [int(x) for x in input(). split()]\n",
    "    if (p, e, i, d) == (-1, -1, -1, -1) :\n",
    "        flag = False\n",
    "        return\n",
    "    \n",
    "    cur_time = p\n",
    "    cur_time2 = 0\n",
    "    cur_time3 = 0\n",
    "    \n",
    "    for j in range (cur_time, 30000, 23) :\n",
    "        if (j - e) % 28 == 0:\n",
    "            cur_time2 = j\n",
    "            break\n",
    "    for s in range (cur_time2, 30000, 23* 28):\n",
    "        if (s - i) % 33 == 0:\n",
    "            cur_time3 = s\n",
    "            break\n",
    "    if cur_time3 > d:\n",
    "        print (f'Case {n} : the next triple peak occurs in {cur_time3 - d} days.')\n",
    "        return\n",
    "    else:\n",
    "        print (f'Case {n}: the next triple peak occurs in {cur_time3 - d+ 23*28*33} days.')\n",
    "        return\n",
    "    \n",
    "flag= True\n",
    "n = 1\n",
    "while flag:\n",
    "    main(n)\n",
    "    n += 1"
   ]
  }
 ],
 "metadata": {
  "kernelspec": {
   "display_name": "Python 3",
   "language": "python",
   "name": "python3"
  },
  "language_info": {
   "codemirror_mode": {
    "name": "ipython",
    "version": 3
   },
   "file_extension": ".py",
   "mimetype": "text/x-python",
   "name": "python",
   "nbconvert_exporter": "python",
   "pygments_lexer": "ipython3",
   "version": "3.11.3"
  }
 },
 "nbformat": 4,
 "nbformat_minor": 2
}
