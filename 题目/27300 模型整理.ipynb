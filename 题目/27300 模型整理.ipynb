{
 "cells": [
  {
   "cell_type": "code",
   "execution_count": null,
   "metadata": {},
   "outputs": [],
   "source": [
    "n=int(input())\n",
    "l=[]\n",
    "for i in range(n):\n",
    "    l.append(input().split('-'))\n",
    "l.sort(key=lambda x:(x[0],-ord(x[1][-1]),eval(x[1][0:-1])))\n",
    "\n",
    "dic={}\n",
    "for i in l:\n",
    "    if i[0] in dic:\n",
    "        dic[i[0]].append(i[1])\n",
    "    else:\n",
    "        dic[i[0]]=[i[1]]\n",
    "\n",
    "for k,v in dic.items():\n",
    "    print(k,end=': ')\n",
    "    print(', '.join(v))"
   ]
  }
 ],
 "metadata": {
  "kernelspec": {
   "display_name": "Python 3",
   "language": "python",
   "name": "python3"
  },
  "language_info": {
   "codemirror_mode": {
    "name": "ipython",
    "version": 3
   },
   "file_extension": ".py",
   "mimetype": "text/x-python",
   "name": "python",
   "nbconvert_exporter": "python",
   "pygments_lexer": "ipython3",
   "version": "3.11.3"
  }
 },
 "nbformat": 4,
 "nbformat_minor": 2
}
