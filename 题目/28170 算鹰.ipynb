{
 "cells": [
  {
   "cell_type": "code",
   "execution_count": 1,
   "metadata": {},
   "outputs": [
    {
     "name": "stdout",
     "output_type": "stream",
     "text": [
      "8\n"
     ]
    }
   ],
   "source": [
    "from collections import deque\n",
    "\n",
    "MAX_DIRECTIONS = 4\n",
    "dx = [1,0,0,-1]\n",
    "dy = [0,1,-1,0]\n",
    "\n",
    "def is_valid_move(x, y):\n",
    "    return 0 <= x < n and 0 <= y < m and maze[x][y] == '.' and not in_queue[x][y]\n",
    "\n",
    "def bfs(start_x, start_y):\n",
    "    queue = deque()\n",
    "    if not in_queue[start_x][start_y]:\n",
    "        queue.append((start_x, start_y))\n",
    "        in_queue[start_x][start_y] = True\n",
    "        while queue:\n",
    "            x, y = queue.popleft()\n",
    "            for i in range(MAX_DIRECTIONS):\n",
    "                next_x = x + dx[i]\n",
    "                next_y = y + dy[i]\n",
    "                if is_valid_move(next_x, next_y):\n",
    "                    in_queue[next_x][next_y] = True\n",
    "                    queue.append((next_x, next_y))\n",
    "\n",
    "def size(x,y):\n",
    "    if not in_queue[x][y]:\n",
    "        before=after=0\n",
    "        for i in range(len(in_queue)):\n",
    "            before+=sum(in_queue[i])\n",
    "        bfs(x,y)\n",
    "        for i in range(len(in_queue)):\n",
    "            after+=sum(in_queue[i])\n",
    "        return after-before\n",
    "    else:\n",
    "        return 0\n",
    "\n",
    "n=m=10\n",
    "maze = [input() for i in range(10)]\n",
    "in_queue = [[False] * m for i in range(n)]\n",
    "count=[0]*m*n\n",
    "\n",
    "for i in range(n):\n",
    "    for j in range(m):\n",
    "        if maze[i][j]=='-':\n",
    "            in_queue[i][j]=True\n",
    "\n",
    "for i in range(n):\n",
    "    for j in range(m):\n",
    "        count[i*m+j]=(size(i,j)!=0)\n",
    "print(sum(count))"
   ]
  }
 ],
 "metadata": {
  "kernelspec": {
   "display_name": "Python 3",
   "language": "python",
   "name": "python3"
  },
  "language_info": {
   "codemirror_mode": {
    "name": "ipython",
    "version": 3
   },
   "file_extension": ".py",
   "mimetype": "text/x-python",
   "name": "python",
   "nbconvert_exporter": "python",
   "pygments_lexer": "ipython3",
   "version": "3.11.3"
  }
 },
 "nbformat": 4,
 "nbformat_minor": 2
}
