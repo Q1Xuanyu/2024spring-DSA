{
 "cells": [
  {
   "cell_type": "code",
   "execution_count": 12,
   "metadata": {},
   "outputs": [
    {
     "name": "stdout",
     "output_type": "stream",
     "text": [
      "2\n"
     ]
    }
   ],
   "source": [
    "n=int(input())\n",
    "pairs = [i[1:-1] for i in input().split()]\n",
    "dis=[sum(map(int,i.split(','))) for i in pairs]\n",
    "price=[*map(int,input().split())]\n",
    "val=[dis[i]/price[i] for i in range(n)]\n",
    "house=[(dis[i],price[i]) for i in range(n)]\n",
    "\n",
    "val.sort()\n",
    "price.sort()\n",
    "if n%2==1:\n",
    "    val_mid=val[(n-1)//2]\n",
    "    price_mid=price[(n-1)//2]\n",
    "else:\n",
    "    val_mid=(val[n//2]+val[n//2-1])/2\n",
    "    price_mid=(price[n//2]+price[n//2-1])/2\n",
    "\n",
    "count=0\n",
    "for i in house:\n",
    "    if (i[0]/i[1]>val_mid) & (i[1]<price_mid):\n",
    "        count+=1\n",
    "print(count)"
   ]
  },
  {
   "cell_type": "code",
   "execution_count": null,
   "metadata": {},
   "outputs": [],
   "source": [
    "n = int(input())\n",
    "dis = [eval(x)[0]+eval(x)[1] for x in input().split()]\n",
    "pri = [int(x) for x in input().split()]\n",
    "vau = [dis[x]/pri[x] for x in range(n)]\n",
    "def mid(n,lis):    \n",
    "    lis = sorted(lis)\n",
    "    if n%2==1:\n",
    "        return lis[n//2]\n",
    "    else:\n",
    "        return (lis[n//2-1]+lis[n//2])/2\n",
    "prim = mid(n, pri)\n",
    "vaum = mid(n, vau)\n",
    "sum = 0\n",
    "for i in range(n):\n",
    "    if vau[i]>vaum and pri[i]<prim:        \n",
    "        sum +=1\n",
    "print(sum)"
   ]
  }
 ],
 "metadata": {
  "kernelspec": {
   "display_name": "Python 3",
   "language": "python",
   "name": "python3"
  },
  "language_info": {
   "codemirror_mode": {
    "name": "ipython",
    "version": 3
   },
   "file_extension": ".py",
   "mimetype": "text/x-python",
   "name": "python",
   "nbconvert_exporter": "python",
   "pygments_lexer": "ipython3",
   "version": "3.11.3"
  }
 },
 "nbformat": 4,
 "nbformat_minor": 2
}
