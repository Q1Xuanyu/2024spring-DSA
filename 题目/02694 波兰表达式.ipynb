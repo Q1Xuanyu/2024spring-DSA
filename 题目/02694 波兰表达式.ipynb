{
 "cells": [
  {
   "cell_type": "code",
   "execution_count": 23,
   "metadata": {},
   "outputs": [
    {
     "name": "stdout",
     "output_type": "stream",
     "text": [
      "1357.000000\n"
     ]
    }
   ],
   "source": [
    "def Polish(l):\n",
    "    C=['+','-','*','/']\n",
    "    if len(l)>1:\n",
    "        for i in range(len(l)):\n",
    "            if l[i] in C:\n",
    "                if (l[i+1] in C) | (l[i+2] in C):\n",
    "                    continue\n",
    "                else:\n",
    "                    cal=str(l[i+1])+str(l[i])+str(l[i+2])\n",
    "                    l[i]=eval(cal)\n",
    "                    l.pop(i+2)\n",
    "                    l.pop(i+1)\n",
    "                    return Polish(l)\n",
    "    elif len(l)==1:\n",
    "        return l[0]\n",
    "\n",
    "l=input().split()\n",
    "print(f'{Polish(l):.6f}')"
   ]
  },
  {
   "cell_type": "code",
   "execution_count": 25,
   "metadata": {},
   "outputs": [
    {
     "name": "stdout",
     "output_type": "stream",
     "text": [
      "1357.000000\n"
     ]
    }
   ],
   "source": [
    "# 递归实现\n",
    "def cal (s) :\n",
    "    t=s.pop (0) # pop(0)是O(N)的方法，如果使用栈会更好\n",
    "    if t in '+-*/':\n",
    "        return str (eval (cal (s) +t+cal (s) ) )\n",
    "    else: \n",
    "        return t\n",
    "s=input().split()\n",
    "print(f'{float(cal(s)):.6f}')"
   ]
  },
  {
   "cell_type": "code",
   "execution_count": 26,
   "metadata": {},
   "outputs": [
    {
     "name": "stdout",
     "output_type": "stream",
     "text": [
      "1357.000000\n"
     ]
    }
   ],
   "source": [
    "# 栈实现\n",
    "s=reversed(input() . split())\n",
    "stack=[]\n",
    "for t in s:\n",
    "    if t in '+-*/':\n",
    "        a,b=stack.pop(), stack.pop()\n",
    "        stack.append(str(eval (a+t+b)))\n",
    "    else:\n",
    "        stack.append (t)\n",
    "print(f'{float (stack[0]):.6f}')"
   ]
  }
 ],
 "metadata": {
  "kernelspec": {
   "display_name": "Python 3",
   "language": "python",
   "name": "python3"
  },
  "language_info": {
   "codemirror_mode": {
    "name": "ipython",
    "version": 3
   },
   "file_extension": ".py",
   "mimetype": "text/x-python",
   "name": "python",
   "nbconvert_exporter": "python",
   "pygments_lexer": "ipython3",
   "version": "3.11.3"
  }
 },
 "nbformat": 4,
 "nbformat_minor": 2
}
