{
 "cells": [
  {
   "cell_type": "code",
   "execution_count": 13,
   "metadata": {},
   "outputs": [
    {
     "name": "stdout",
     "output_type": "stream",
     "text": [
      "No\n",
      "No\n",
      "No\n",
      "No\n",
      "Yes\n",
      "1\n",
      "2\n"
     ]
    }
   ],
   "source": [
    "def find(x):\n",
    "    if parent[x] != x: # 如果不是根结点，继续循环\n",
    "        parent[x] = find(parent[x])\n",
    "    return parent[x]\n",
    "\n",
    "def union(x, y):\n",
    "    parent[find(y)] = find(x)\n",
    "\n",
    "while True:\n",
    "    try:\n",
    "        n,m=map(int,input().split())\n",
    "        parent = list(range(n + 1))\t# parent[i] == i，则说明元素i是该集合的根结点\n",
    "        for _ in range(m):\n",
    "            x,y=map(int, input().split())\n",
    "            if find(x)==find(y):\n",
    "                print('Yes')\n",
    "            else:\n",
    "                print('No')\n",
    "                union(x,y)\n",
    "        classes = set(find(x) for x in range(1, n + 1))\n",
    "        classes = sorted(classes)\n",
    "        print(len(classes))\n",
    "        print(*classes)\n",
    "    except:\n",
    "        break"
   ]
  }
 ],
 "metadata": {
  "kernelspec": {
   "display_name": "Python 3",
   "language": "python",
   "name": "python3"
  },
  "language_info": {
   "codemirror_mode": {
    "name": "ipython",
    "version": 3
   },
   "file_extension": ".py",
   "mimetype": "text/x-python",
   "name": "python",
   "nbconvert_exporter": "python",
   "pygments_lexer": "ipython3",
   "version": "3.11.3"
  }
 },
 "nbformat": 4,
 "nbformat_minor": 2
}
