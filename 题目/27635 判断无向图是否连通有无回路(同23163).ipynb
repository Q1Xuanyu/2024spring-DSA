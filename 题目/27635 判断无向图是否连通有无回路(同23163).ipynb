{
 "cells": [
  {
   "cell_type": "code",
   "execution_count": 6,
   "metadata": {},
   "outputs": [
    {
     "name": "stdout",
     "output_type": "stream",
     "text": [
      "connected:yes\n",
      "loop:no\n"
     ]
    }
   ],
   "source": [
    "from collections import deque\n",
    "\n",
    "def bfs(node, visited, adjacency_list, connected_components):\n",
    "    queue=deque()\n",
    "    if not visited[node]:\n",
    "        queue.append(node)\n",
    "        visited[node] = True\n",
    "        before=after=0\n",
    "        while queue:\n",
    "            x=queue.popleft()\n",
    "            before=sum(visited)\n",
    "            for neighbor in adjacency_list[x]:\n",
    "                if not visited[neighbor]:\n",
    "                    visited[neighbor]=True\n",
    "                    queue.append(neighbor)\n",
    "            after=sum(visited)\n",
    "            connected_components[x]=after-before\n",
    "\n",
    "n,m = map(int, input().split())\n",
    "adjacency_list = [[] for _ in range(n)]\n",
    "for _ in range(m):\n",
    "    u, v = map(int, input().split())\n",
    "    adjacency_list[u].append(v)\n",
    "    adjacency_list[v].append(u)\n",
    "\n",
    "visited = [False] * n\n",
    "connected_components = [0]*n\n",
    "connection=loop='no'\n",
    "\n",
    "bfs(0, visited, adjacency_list, connected_components)\n",
    "if sum(visited)==n:\n",
    "    connection='yes'\n",
    "    \n",
    "for i in range(n):\n",
    "    if not visited[i]:\n",
    "        bfs(i, visited, adjacency_list, connected_components)\n",
    "\n",
    "for i in range(n):\n",
    "    if len(adjacency_list[i])-connected_components[i]>1:\n",
    "        loop='yes'\n",
    "        \n",
    "print(f'connected:{connection}')\n",
    "print(f'loop:{loop}')"
   ]
  }
 ],
 "metadata": {
  "kernelspec": {
   "display_name": "Python 3",
   "language": "python",
   "name": "python3"
  },
  "language_info": {
   "codemirror_mode": {
    "name": "ipython",
    "version": 3
   },
   "file_extension": ".py",
   "mimetype": "text/x-python",
   "name": "python",
   "nbconvert_exporter": "python",
   "pygments_lexer": "ipython3",
   "version": "3.11.3"
  }
 },
 "nbformat": 4,
 "nbformat_minor": 2
}
