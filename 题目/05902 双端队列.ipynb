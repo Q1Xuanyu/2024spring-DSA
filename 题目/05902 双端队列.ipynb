{
 "cells": [
  {
   "cell_type": "code",
   "execution_count": 1,
   "metadata": {},
   "outputs": [
    {
     "name": "stdout",
     "output_type": "stream",
     "text": [
      "3\n",
      "NULL\n"
     ]
    }
   ],
   "source": [
    "for i in range(int(input())):\n",
    "    queue=[]\n",
    "    command=[]\n",
    "    n=int(input())\n",
    "    error=0\n",
    "    for j in range(n):\n",
    "        command.append([*map(int,input().split())])\n",
    "    for j in range(n):\n",
    "        if command[j][0]==2:\n",
    "            if len(queue)==0:\n",
    "                error=1\n",
    "                break\n",
    "            else:\n",
    "                queue.pop(command[j][1]*(len(queue)-1))\n",
    "        else:\n",
    "            k=str(command[j][1])\n",
    "            queue.append(k)\n",
    "    \n",
    "    if error:\n",
    "        print('error')\n",
    "    elif len(queue)==0:\n",
    "        print('NULL')\n",
    "    else:\n",
    "        print(' '.join(queue))"
   ]
  }
 ],
 "metadata": {
  "kernelspec": {
   "display_name": "Python 3",
   "language": "python",
   "name": "python3"
  },
  "language_info": {
   "codemirror_mode": {
    "name": "ipython",
    "version": 3
   },
   "file_extension": ".py",
   "mimetype": "text/x-python",
   "name": "python",
   "nbconvert_exporter": "python",
   "pygments_lexer": "ipython3",
   "version": "3.11.3"
  }
 },
 "nbformat": 4,
 "nbformat_minor": 2
}
