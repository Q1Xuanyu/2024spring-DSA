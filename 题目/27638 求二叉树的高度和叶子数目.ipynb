{
 "cells": [
  {
   "cell_type": "code",
   "execution_count": 18,
   "metadata": {},
   "outputs": [
    {
     "name": "stdout",
     "output_type": "stream",
     "text": [
      "1 1\n"
     ]
    }
   ],
   "source": [
    "class TreeNode:\n",
    "    def __init__(self):\n",
    "        self.left=None\n",
    "        self.right=None\n",
    "\n",
    "def tree_depth(node):\n",
    "    if node is None:\n",
    "        return 0\n",
    "    left_depth=tree_depth(node.left)\n",
    "    right_depth=tree_depth(node.right)\n",
    "    return max(left_depth,right_depth)+1\n",
    "\n",
    "def leaf(node):\n",
    "    if node is None:\n",
    "        return 0\n",
    "    if (node.left is None) & (node.right is None):\n",
    "        return 1\n",
    "    left_leaf=leaf(node.left)\n",
    "    right_leaf=leaf(node.right)\n",
    "    return left_leaf+right_leaf\n",
    "\n",
    "n=int(input())\n",
    "nodes=[TreeNode() for _ in range(n)]\n",
    "\n",
    "for i in range(n):\n",
    "    left_index,right_index=map(int,input().split())\n",
    "    if left_index!=-1:\n",
    "        nodes[i].left=nodes[left_index]\n",
    "    if right_index!=-1:\n",
    "        nodes[i].right=nodes[right_index]\n",
    "\n",
    "depth=max([tree_depth(node) for node in nodes])\n",
    "height=depth-1\n",
    "leaves=max([leaf(node) for node in nodes])\n",
    "print(height,leaves)"
   ]
  }
 ],
 "metadata": {
  "kernelspec": {
   "display_name": "Python 3",
   "language": "python",
   "name": "python3"
  },
  "language_info": {
   "codemirror_mode": {
    "name": "ipython",
    "version": 3
   },
   "file_extension": ".py",
   "mimetype": "text/x-python",
   "name": "python",
   "nbconvert_exporter": "python",
   "pygments_lexer": "ipython3",
   "version": "3.11.3"
  }
 },
 "nbformat": 4,
 "nbformat_minor": 2
}
