{
 "cells": [
  {
   "cell_type": "code",
   "execution_count": 6,
   "metadata": {},
   "outputs": [
    {
     "name": "stdout",
     "output_type": "stream",
     "text": [
      "error\n",
      "error\n",
      "error\n",
      "error\n"
     ]
    }
   ],
   "source": [
    "for i in range(int(input())):\n",
    "    queue=[]\n",
    "    stack=[]\n",
    "    command=[]\n",
    "    n=int(input())\n",
    "    error=0\n",
    "    for j in range(n):\n",
    "        command.append(input().split())\n",
    "    \n",
    "    for j in range(n):\n",
    "        if command[j][0]=='pop':\n",
    "            if len(queue)==0:\n",
    "                error=1\n",
    "                break\n",
    "            else:\n",
    "                queue.pop(0)\n",
    "                stack.pop()\n",
    "        else:\n",
    "            k=command[j][1]\n",
    "            queue.append(k)\n",
    "            stack.append(k)\n",
    "            \n",
    "    if error:\n",
    "        print('error\\nerror')\n",
    "    else:\n",
    "        print(' '.join(queue))\n",
    "        print(' '.join(stack))"
   ]
  },
  {
   "cell_type": "code",
   "execution_count": 3,
   "metadata": {},
   "outputs": [
    {
     "name": "stdout",
     "output_type": "stream",
     "text": [
      "[3, 5]\n"
     ]
    }
   ],
   "source": [
    "print(queue)"
   ]
  }
 ],
 "metadata": {
  "kernelspec": {
   "display_name": "Python 3",
   "language": "python",
   "name": "python3"
  },
  "language_info": {
   "codemirror_mode": {
    "name": "ipython",
    "version": 3
   },
   "file_extension": ".py",
   "mimetype": "text/x-python",
   "name": "python",
   "nbconvert_exporter": "python",
   "pygments_lexer": "ipython3",
   "version": "3.11.3"
  }
 },
 "nbformat": 4,
 "nbformat_minor": 2
}
