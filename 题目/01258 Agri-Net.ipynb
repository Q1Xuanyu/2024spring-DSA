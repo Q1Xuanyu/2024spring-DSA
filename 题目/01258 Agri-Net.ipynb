{
 "cells": [
  {
   "cell_type": "code",
   "execution_count": null,
   "metadata": {},
   "outputs": [],
   "source": [
    "import sys\n",
    "\n",
    "# Function to find the minimum spanning tree using Prim's algorithm\n",
    "def prim_mst(graph, N):\n",
    "    # Initialize key values, parent array, and MST set\n",
    "    key = [float('inf')] * N\n",
    "    parent = [None] * N\n",
    "    mst_set = [False] * N\n",
    "    \n",
    "    # Start with the first node\n",
    "    key[0] = 0\n",
    "    parent[0] = -1\n",
    "    \n",
    "    for _ in range(N):\n",
    "        # Find the vertex with the minimum key value\n",
    "        min_key = float('inf')\n",
    "        min_idx = -1\n",
    "        for i in range(N):\n",
    "            if not mst_set[i] and key[i] < min_key:\n",
    "                min_key = key[i]\n",
    "                min_idx = i\n",
    "        \n",
    "        # Add the selected vertex to the MST set\n",
    "        mst_set[min_idx] = True\n",
    "        \n",
    "        # Update key values and parent array for adjacent vertices\n",
    "        for j in range(N):\n",
    "            if graph[min_idx][j] and not mst_set[j] and graph[min_idx][j] < key[j]:\n",
    "                parent[j] = min_idx\n",
    "                key[j] = graph[min_idx][j]\n",
    "    \n",
    "    # Calculate the sum of key values in the MST\n",
    "    mst_sum = sum(key)\n",
    "    return mst_sum\n",
    "\n",
    "def main():\n",
    "    for line in sys.stdin:\n",
    "        # Read the number of farms\n",
    "        N = int(line.strip())\n",
    "        \n",
    "        # Read the connectivity matrix\n",
    "        graph = []\n",
    "        for _ in range(N):\n",
    "            row = list(map(int, input().split()))\n",
    "            graph.append(row)\n",
    "        \n",
    "        # Find the minimum spanning tree using Prim's algorithm\n",
    "        mst_length = prim_mst(graph, N)\n",
    "        \n",
    "        # Output the minimum length of fiber required\n",
    "        print(mst_length)\n",
    "\n",
    "if __name__ == \"__main__\":\n",
    "    main()\n"
   ]
  }
 ],
 "metadata": {
  "kernelspec": {
   "display_name": "Python 3",
   "language": "python",
   "name": "python3"
  },
  "language_info": {
   "name": "python",
   "version": "3.11.3"
  }
 },
 "nbformat": 4,
 "nbformat_minor": 2
}
