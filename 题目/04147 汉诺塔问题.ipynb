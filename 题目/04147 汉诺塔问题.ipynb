{
 "cells": [
  {
   "cell_type": "code",
   "execution_count": null,
   "metadata": {},
   "outputs": [],
   "source": []
  },
  {
   "cell_type": "code",
   "execution_count": 1,
   "metadata": {},
   "outputs": [
    {
     "name": "stdout",
     "output_type": "stream",
     "text": [
      "1:a->c\n",
      "2:a->b\n",
      "1:c->b\n",
      "3:a->c\n",
      "1:b->a\n",
      "2:b->c\n",
      "1:a->c\n"
     ]
    }
   ],
   "source": [
    "# 将编号为numdisk的盘子从init杆移至desti杆 \n",
    "def moveOne(numDisk : int, init : str, desti : str):\n",
    "    print(\"{}:{}->{}\".format(numDisk, init, desti))\n",
    "\n",
    "#将numDisks个盘子从init杆借助temp杆移至desti杆\n",
    "def move(numDisks : int, init : str, temp : str, desti : str):\n",
    "    if numDisks == 1:\n",
    "        moveOne(1, init, desti)\n",
    "    else: \n",
    "        # 首先将上面的（numDisk-1）个盘子从init杆借助desti杆移至temp杆\n",
    "        move(numDisks-1, init, desti, temp) \n",
    "        \n",
    "        # 然后将编号为numDisks的盘子从init杆移至desti杆\n",
    "        moveOne(numDisks, init, desti)\n",
    "        \n",
    "        # 最后将上面的（numDisks-1）个盘子从temp杆借助init杆移至desti杆 \n",
    "        move(numDisks-1, temp, init, desti)\n",
    "\n",
    "n, a, b, c = input().split()\n",
    "move(int(n), a, b, c)"
   ]
  }
 ],
 "metadata": {
  "kernelspec": {
   "display_name": "Python 3",
   "language": "python",
   "name": "python3"
  },
  "language_info": {
   "codemirror_mode": {
    "name": "ipython",
    "version": 3
   },
   "file_extension": ".py",
   "mimetype": "text/x-python",
   "name": "python",
   "nbconvert_exporter": "python",
   "pygments_lexer": "ipython3",
   "version": "3.11.3"
  }
 },
 "nbformat": 4,
 "nbformat_minor": 2
}
