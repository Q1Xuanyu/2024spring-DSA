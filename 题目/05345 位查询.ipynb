{
 "cells": [
  {
   "cell_type": "code",
   "execution_count": 22,
   "metadata": {},
   "outputs": [
    {
     "ename": "ValueError",
     "evalue": "not enough values to unpack (expected 2, got 0)",
     "output_type": "error",
     "traceback": [
      "\u001b[1;31m---------------------------------------------------------------------------\u001b[0m",
      "\u001b[1;31mValueError\u001b[0m                                Traceback (most recent call last)",
      "Cell \u001b[1;32mIn[22], line 11\u001b[0m\n\u001b[0;32m      8\u001b[0m         n\u001b[38;5;241m=\u001b[39mn\u001b[38;5;241m%\u001b[39m\u001b[38;5;241m2\u001b[39m\u001b[38;5;241m*\u001b[39m\u001b[38;5;241m*\u001b[39m(\u001b[38;5;241m15\u001b[39m\u001b[38;5;241m-\u001b[39mk)\n\u001b[0;32m      9\u001b[0m     \u001b[38;5;28;01mreturn\u001b[39;00m List[i]\n\u001b[1;32m---> 11\u001b[0m N,M\u001b[38;5;241m=\u001b[39m\u001b[38;5;28mmap\u001b[39m(\u001b[38;5;28mint\u001b[39m,\u001b[38;5;28minput\u001b[39m()\u001b[38;5;241m.\u001b[39msplit())\n\u001b[0;32m     12\u001b[0m List\u001b[38;5;241m=\u001b[39m\u001b[38;5;28mlist\u001b[39m(\u001b[38;5;28mmap\u001b[39m(\u001b[38;5;28mint\u001b[39m,\u001b[38;5;28minput\u001b[39m()\u001b[38;5;241m.\u001b[39msplit()))\n\u001b[0;32m     13\u001b[0m \u001b[38;5;28;01mfor\u001b[39;00m k \u001b[38;5;129;01min\u001b[39;00m \u001b[38;5;28mrange\u001b[39m(M):\n",
      "\u001b[1;31mValueError\u001b[0m: not enough values to unpack (expected 2, got 0)"
     ]
    }
   ],
   "source": [
    "def C(n,d):\n",
    "    return (n+d)%65536\n",
    "\n",
    "def Q(n,i):\n",
    "    List=[0]*16\n",
    "    for k in range(16):\n",
    "        List[15-k]=n//2**(15-k)\n",
    "        n=n%2**(15-k)\n",
    "    return List[i]\n",
    "\n",
    "N,M=map(int,input().split())\n",
    "List=list(map(int,input().split()))\n",
    "for k in range(M):\n",
    "    l=input().split()\n",
    "    if l[0]=='C':\n",
    "        d=int(l[1])\n",
    "        for n in range(len(List)):\n",
    "            List[n]=C(List[n],d)\n",
    "    elif l[0]=='Q':\n",
    "        i=int(l[1])\n",
    "        m=0\n",
    "        for n in range(len(List)):\n",
    "            m+=Q(List[n],i)\n",
    "        print(m)\n",
    "    else:\n",
    "        print('Wrong Input')"
   ]
  }
 ],
 "metadata": {
  "kernelspec": {
   "display_name": "Python 3",
   "language": "python",
   "name": "python3"
  },
  "language_info": {
   "codemirror_mode": {
    "name": "ipython",
    "version": 3
   },
   "file_extension": ".py",
   "mimetype": "text/x-python",
   "name": "python",
   "nbconvert_exporter": "python",
   "pygments_lexer": "ipython3",
   "version": "3.11.3"
  }
 },
 "nbformat": 4,
 "nbformat_minor": 2
}
