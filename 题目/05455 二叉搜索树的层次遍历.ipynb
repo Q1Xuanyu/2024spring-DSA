{
 "cells": [
  {
   "cell_type": "code",
   "execution_count": null,
   "metadata": {},
   "outputs": [],
   "source": []
  },
  {
   "cell_type": "code",
   "execution_count": null,
   "metadata": {},
   "outputs": [],
   "source": [
    "class TreeNode:\n",
    "    def __init__(self, value):\n",
    "        self.value = value\n",
    "        self.left = None\n",
    "        self.right = None\n",
    "# 二叉搜索树中添加节点\n",
    "def insert(node, value):\n",
    "    if node is None:\n",
    "        return TreeNode(value)\n",
    "    if value < node.value:\n",
    "        node.left = insert(node.left, value)\n",
    "    elif value > node.value:\n",
    "        node.right = insert(node.right, value)\n",
    "    return node\n",
    "# 层次遍历\n",
    "def level_order_traversal(root):\n",
    "    queue = [root]\n",
    "    traversal = []\n",
    "    while queue:\n",
    "        node = queue.pop(0)\n",
    "        traversal.append(node.value)\n",
    "        if node.left:\n",
    "            queue.append(node.left)\n",
    "        if node.right:\n",
    "            queue.append(node.right)\n",
    "    return traversal\n",
    "\n",
    "numbers = list(map(int, input().strip().split()))\n",
    "numbers = list(dict.fromkeys(numbers))  # remove duplicates\n",
    "root = None\n",
    "for number in numbers:\n",
    "    root = insert(root, number)\n",
    "traversal = level_order_traversal(root)\n",
    "print(' '.join(map(str, traversal)))"
   ]
  }
 ],
 "metadata": {
  "kernelspec": {
   "display_name": "Python 3",
   "language": "python",
   "name": "python3"
  },
  "language_info": {
   "name": "python",
   "version": "3.11.3"
  }
 },
 "nbformat": 4,
 "nbformat_minor": 2
}
