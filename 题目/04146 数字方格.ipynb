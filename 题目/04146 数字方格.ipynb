{
 "cells": [
  {
   "cell_type": "code",
   "execution_count": 2,
   "metadata": {},
   "outputs": [
    {
     "name": "stdout",
     "output_type": "stream",
     "text": [
      "295\n"
     ]
    }
   ],
   "source": [
    "n=int(input())\n",
    "AC=[]\n",
    "for a1 in range(n+1):\n",
    "    for a2 in range(n+1):\n",
    "        for a3 in range(n+1):\n",
    "            if ((a1+a2)%2==0) & ((a2+a3)%3==0) & ((a1+a2+a3)%5==0):\n",
    "                AC.append(a1+a2+a3)\n",
    "print(max(AC))"
   ]
  }
 ],
 "metadata": {
  "kernelspec": {
   "display_name": "Python 3",
   "language": "python",
   "name": "python3"
  },
  "language_info": {
   "codemirror_mode": {
    "name": "ipython",
    "version": 3
   },
   "file_extension": ".py",
   "mimetype": "text/x-python",
   "name": "python",
   "nbconvert_exporter": "python",
   "pygments_lexer": "ipython3",
   "version": "3.11.3"
  }
 },
 "nbformat": 4,
 "nbformat_minor": 2
}
