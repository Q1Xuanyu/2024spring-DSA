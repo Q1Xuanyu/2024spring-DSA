{
 "cells": [
  {
   "cell_type": "code",
   "execution_count": 14,
   "metadata": {},
   "outputs": [
    {
     "name": "stdout",
     "output_type": "stream",
     "text": [
      "alive\n"
     ]
    }
   ],
   "source": [
    "nCases=int(input())\n",
    "for i in range(nCases):\n",
    "    n,m,b=map(int,input().split())\n",
    "    skill={}\n",
    "    \n",
    "    for j in range(n):\n",
    "        t,x=input().split()\n",
    "        t=int(t)\n",
    "        x=float(x)\n",
    "        \n",
    "        # 错误的代码\n",
    "        # t,x=int(input().split()[0])\n",
    "        # x=float(input().split()[1])\n",
    "        \n",
    "        if t in skill.keys():\n",
    "            skill[t].append(x)\n",
    "        else:\n",
    "            skill[t]=[x]\n",
    "            \n",
    "    # 注意对时刻进行排序\n",
    "    for t in sorted(skill.keys()): \n",
    "        List=sorted(skill[t],reverse=True)\n",
    "        if len(List)>m:\n",
    "            b-=sum(List[0:m])\n",
    "        else:\n",
    "            b-=sum(List)\n",
    "        if b<=0:\n",
    "            print(t)\n",
    "            break\n",
    "    if b>0:\n",
    "        print('alive')"
   ]
  },
  {
   "cell_type": "code",
   "execution_count": null,
   "metadata": {},
   "outputs": [],
   "source": []
  }
 ],
 "metadata": {
  "kernelspec": {
   "display_name": "Python 3",
   "language": "python",
   "name": "python3"
  },
  "language_info": {
   "codemirror_mode": {
    "name": "ipython",
    "version": 3
   },
   "file_extension": ".py",
   "mimetype": "text/x-python",
   "name": "python",
   "nbconvert_exporter": "python",
   "pygments_lexer": "ipython3",
   "version": "3.11.3"
  }
 },
 "nbformat": 4,
 "nbformat_minor": 2
}
