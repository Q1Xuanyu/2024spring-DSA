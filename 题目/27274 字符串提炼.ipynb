{
 "cells": [
  {
   "cell_type": "code",
   "execution_count": 4,
   "metadata": {},
   "outputs": [
    {
     "name": "stdout",
     "output_type": "stream",
     "text": [
      "qHwhri\n"
     ]
    }
   ],
   "source": [
    "import math\n",
    "\n",
    "s=input()\n",
    "n=len(s)\n",
    "m=math.floor(math.log2(n))\n",
    "\n",
    "key=''\n",
    "for i in range(0,m+1):\n",
    "    a,b=2**i-1,2**(m-i)-1\n",
    "    if a>b:\n",
    "        break\n",
    "    elif a==b:\n",
    "        key+=s[a]\n",
    "    else:\n",
    "        key+=s[a]\n",
    "        key+=s[b]\n",
    "\n",
    "print(key)"
   ]
  }
 ],
 "metadata": {
  "kernelspec": {
   "display_name": "Python 3",
   "language": "python",
   "name": "python3"
  },
  "language_info": {
   "codemirror_mode": {
    "name": "ipython",
    "version": 3
   },
   "file_extension": ".py",
   "mimetype": "text/x-python",
   "name": "python",
   "nbconvert_exporter": "python",
   "pygments_lexer": "ipython3",
   "version": "3.11.3"
  }
 },
 "nbformat": 4,
 "nbformat_minor": 2
}
