{
 "cells": [
  {
   "cell_type": "code",
   "execution_count": 16,
   "metadata": {},
   "outputs": [
    {
     "name": "stdout",
     "output_type": "stream",
     "text": [
      "16\n"
     ]
    }
   ],
   "source": [
    "from collections import deque\n",
    "\n",
    "MAX_DIRECTIONS = 8\n",
    "dx = [0, 0, 1, -1,1,1,-1,-1]\n",
    "dy = [1, -1, 0, 0,1,-1,1,-1]\n",
    "\n",
    "def is_valid_move(x, y):\n",
    "    return 0 <= x < n and 0 <= y < m and maze[x][y] == 'W' and not in_queue[x][y]\n",
    "\n",
    "def bfs(start_x, start_y):\n",
    "    queue = deque()\n",
    "    if not in_queue[start_x][start_y]:\n",
    "        queue.append((start_x, start_y))\n",
    "        in_queue[start_x][start_y] = True\n",
    "        while queue:\n",
    "            x, y = queue.popleft()\n",
    "            for i in range(MAX_DIRECTIONS):\n",
    "                next_x = x + dx[i]\n",
    "                next_y = y + dy[i]\n",
    "                if is_valid_move(next_x, next_y):\n",
    "                    in_queue[next_x][next_y] = True\n",
    "                    queue.append((next_x, next_y))\n",
    "\n",
    "def size(x,y):\n",
    "    if not in_queue[x][y]:\n",
    "        before=after=0\n",
    "        for i in range(len(in_queue)):\n",
    "            before+=sum(in_queue[i])\n",
    "        bfs(x,y)\n",
    "        for i in range(len(in_queue)):\n",
    "            after+=sum(in_queue[i])\n",
    "        return after-before\n",
    "    else:\n",
    "        return 0\n",
    "\n",
    "N=int(input())\n",
    "for _ in range(N):\n",
    "    n, m = map(int, input().split())\n",
    "    maze = [input() for i in range(n)]\n",
    "    in_queue = [[False] * m for i in range(n)]\n",
    "    size_dif = [0]*m*n\n",
    "\n",
    "    for i in range(n):\n",
    "        for j in range(m):\n",
    "            if maze[i][j]=='.':\n",
    "                in_queue[i][j]=True\n",
    "    \n",
    "    for i in range(n):\n",
    "        for j in range(m):\n",
    "            size_dif[i*m+j]=size(i,j)\n",
    "    print(max(size_dif))\n",
    "    "
   ]
  }
 ],
 "metadata": {
  "kernelspec": {
   "display_name": "Python 3",
   "language": "python",
   "name": "python3"
  },
  "language_info": {
   "codemirror_mode": {
    "name": "ipython",
    "version": 3
   },
   "file_extension": ".py",
   "mimetype": "text/x-python",
   "name": "python",
   "nbconvert_exporter": "python",
   "pygments_lexer": "ipython3",
   "version": "3.11.3"
  }
 },
 "nbformat": 4,
 "nbformat_minor": 2
}
