{
 "cells": [
  {
   "cell_type": "code",
   "execution_count": 11,
   "metadata": {},
   "outputs": [
    {
     "name": "stdout",
     "output_type": "stream",
     "text": [
      "2 -1 -1 0\n",
      "-1 3 -1 -1\n",
      "-1 -1 3 -1\n",
      "0 -1 -1 2\n"
     ]
    }
   ],
   "source": [
    "n,m=map(int,input().split())\n",
    "D=[[0]*n for _ in range(n)]\n",
    "A=[[0]*n for _ in range(n)]\n",
    "for _ in range(m):\n",
    "    u,v=map(int,input().split())\n",
    "    D[u][u]+=1\n",
    "    D[v][v]+=1\n",
    "    A[u][v]=1\n",
    "    A[v][u]=1\n",
    "L=[[str(D[i][j]-A[i][j]) for j in range(n)] for i in range(n)]\n",
    "for i in range(n):\n",
    "    print(' '.join(L[i]))"
   ]
  }
 ],
 "metadata": {
  "kernelspec": {
   "display_name": "Python 3",
   "language": "python",
   "name": "python3"
  },
  "language_info": {
   "codemirror_mode": {
    "name": "ipython",
    "version": 3
   },
   "file_extension": ".py",
   "mimetype": "text/x-python",
   "name": "python",
   "nbconvert_exporter": "python",
   "pygments_lexer": "ipython3",
   "version": "3.11.3"
  }
 },
 "nbformat": 4,
 "nbformat_minor": 2
}
