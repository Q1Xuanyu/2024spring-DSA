{
 "cells": [
  {
   "cell_type": "code",
   "execution_count": null,
   "metadata": {},
   "outputs": [],
   "source": [
    "def dfs(node, visited, value, adjacency_list):\n",
    "    visited[node] = True\n",
    "    for neighbor in adjacency_list[node]:\n",
    "        if not visited[neighbor]:\n",
    "            dfs(neighbor, visited, value, adjacency_list)\n",
    "\n",
    "n,m = map(int, input().split())\n",
    "value=list(map(int,input().split()))\n",
    "adjacency_list = [[] for _ in range(n)]\n",
    "for _ in range(m):\n",
    "    u, v = map(int, input().split())\n",
    "    adjacency_list[u].append(v)\n",
    "    adjacency_list[v].append(u)\n",
    "\n",
    "visited = [False] * n\n",
    "connected_components = [0]*n\n",
    "for i in range(n):\n",
    "    if not visited[i]:\n",
    "        before=after=0\n",
    "        for x in range(n):\n",
    "            before+=visited[x]*value[x]\n",
    "        dfs(i, visited, value, adjacency_list)\n",
    "        for x in range(n):\n",
    "            after+=visited[x]*value[x]\n",
    "        connected_components[i]=after-before\n",
    "\n",
    "print(max(connected_components))"
   ]
  }
 ],
 "metadata": {
  "kernelspec": {
   "display_name": "Python 3",
   "language": "python",
   "name": "python3"
  },
  "language_info": {
   "codemirror_mode": {
    "name": "ipython",
    "version": 3
   },
   "file_extension": ".py",
   "mimetype": "text/x-python",
   "name": "python",
   "nbconvert_exporter": "python",
   "pygments_lexer": "ipython3",
   "version": "3.11.3"
  }
 },
 "nbformat": 4,
 "nbformat_minor": 2
}
