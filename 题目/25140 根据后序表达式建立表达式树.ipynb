{
 "cells": [
  {
   "cell_type": "code",
   "execution_count": null,
   "metadata": {},
   "outputs": [],
   "source": []
  },
  {
   "cell_type": "code",
   "execution_count": null,
   "metadata": {},
   "outputs": [],
   "source": [
    "class TreeNode:\n",
    "    def __init__(self, value):\n",
    "        self.value = value\n",
    "        self.left = None\n",
    "        self.right = None\n",
    "\n",
    "def build_tree(postfix):\n",
    "    stack = []\n",
    "    for char in postfix:\n",
    "        node = TreeNode(char)\n",
    "        if char.isupper():\n",
    "            node.right = stack.pop()\n",
    "            node.left = stack.pop()\n",
    "        stack.append(node)\n",
    "    return stack[0]\n",
    "\n",
    "def level_order_traversal(root):\n",
    "    queue = [root]\n",
    "    traversal = []\n",
    "    while queue:\n",
    "        node = queue.pop(0)\n",
    "        traversal.append(node.value)\n",
    "        if node.left:\n",
    "            queue.append(node.left)\n",
    "        if node.right:\n",
    "            queue.append(node.right)\n",
    "    return traversal\n",
    "\n",
    "n = int(input().strip())\n",
    "for _ in range(n):\n",
    "    postfix = input().strip()\n",
    "    root = build_tree(postfix)\n",
    "    queue_expression = level_order_traversal(root)[::-1]\n",
    "    print(''.join(queue_expression))"
   ]
  }
 ],
 "metadata": {
  "kernelspec": {
   "display_name": "Python 3",
   "language": "python",
   "name": "python3"
  },
  "language_info": {
   "name": "python",
   "version": "3.11.3"
  }
 },
 "nbformat": 4,
 "nbformat_minor": 2
}
