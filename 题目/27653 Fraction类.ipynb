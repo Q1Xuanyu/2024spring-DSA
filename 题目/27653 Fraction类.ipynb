{
 "cells": [
  {
   "cell_type": "code",
   "execution_count": 10,
   "metadata": {},
   "outputs": [
    {
     "name": "stdout",
     "output_type": "stream",
     "text": [
      "4/9\n"
     ]
    }
   ],
   "source": [
    "def gcd(m,n):\n",
    "    while m%n!=0:\n",
    "        oldm=m\n",
    "        oldn=n\n",
    "        m=oldn\n",
    "        n=oldm%oldn\n",
    "    return(n)\n",
    "\n",
    "class Fraction:\n",
    "    def __init__(self,top,bottom):\n",
    "        self.num=top\n",
    "        self.den=bottom\n",
    "    def __str__(self):\n",
    "        return(str(self.num)+'/'+str(self.den))\n",
    "    def __add__(self,otherself):\n",
    "        newnum = self.num*otherself.den+self.den*otherself.num\n",
    "        newden = self.den*otherself.den\n",
    "        common=gcd(newnum,newden)\n",
    "        return(Fraction(newnum//common,newden//common))\n",
    "\n",
    "Input=list(map(int,input().split()))\n",
    "x=Fraction(Input[0],Input[1])\n",
    "y=Fraction(Input[2],Input[3])\n",
    "print(x+y)"
   ]
  },
  {
   "cell_type": "code",
   "execution_count": 2,
   "metadata": {},
   "outputs": [
    {
     "name": "stdout",
     "output_type": "stream",
     "text": [
      "3/4\n"
     ]
    }
   ],
   "source": [
    "import math\n",
    "\n",
    "class Fraction:\n",
    "    def __init__(self,top,bottom):\n",
    "        self.num=top\n",
    "        self.den=bottom\n",
    "    def __str__(self):\n",
    "        return(str(self.num)+'/'+str(self.den))\n",
    "    def __add__(self,otherself):\n",
    "        newnum = self.num*otherself.den+self.den*otherself.num\n",
    "        newden = self.den*otherself.den\n",
    "        common=math.gcd(newnum,newden)\n",
    "        return(Fraction(newnum//common,newden//common))\n",
    "\n",
    "Input=list(map(int,input().split()))\n",
    "x=Fraction(Input[0],Input[1])\n",
    "y=Fraction(Input[2],Input[3])\n",
    "print(x+y)"
   ]
  }
 ],
 "metadata": {
  "kernelspec": {
   "display_name": "Python 3",
   "language": "python",
   "name": "python3"
  },
  "language_info": {
   "codemirror_mode": {
    "name": "ipython",
    "version": 3
   },
   "file_extension": ".py",
   "mimetype": "text/x-python",
   "name": "python",
   "nbconvert_exporter": "python",
   "pygments_lexer": "ipython3",
   "version": "3.11.3"
  }
 },
 "nbformat": 4,
 "nbformat_minor": 2
}
