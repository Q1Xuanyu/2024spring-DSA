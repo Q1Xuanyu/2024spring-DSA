{
 "cells": [
  {
   "cell_type": "code",
   "execution_count": 12,
   "metadata": {},
   "outputs": [
    {
     "name": "stdout",
     "output_type": "stream",
     "text": [
      "0\n"
     ]
    }
   ],
   "source": [
    "import math\n",
    "\n",
    "n,a,b=map(int,input().split())\n",
    "water=list(map(int,input().split()))\n",
    "\n",
    "A,B=a,b\n",
    "reload=0\n",
    "for i in range(math.floor((n+1)/2)):\n",
    "    if i==(n+1)/2-1:\n",
    "        if max(A,B)>=water[i]:\n",
    "            reload+=0\n",
    "        else:\n",
    "            reload+=1\n",
    "    else:\n",
    "        if A>=water[i]:\n",
    "            reload+=0\n",
    "            A-=water[i]\n",
    "        else:\n",
    "            reload+=1\n",
    "            A=a-water[i]\n",
    "        if B>=water[n-1-i]:\n",
    "            reload+=0\n",
    "            B-=water[n-1-i]\n",
    "        else:\n",
    "            reload+=1\n",
    "            B=b-water[n-1-i]\n",
    "\n",
    "print(reload)"
   ]
  }
 ],
 "metadata": {
  "kernelspec": {
   "display_name": "Python 3",
   "language": "python",
   "name": "python3"
  },
  "language_info": {
   "codemirror_mode": {
    "name": "ipython",
    "version": 3
   },
   "file_extension": ".py",
   "mimetype": "text/x-python",
   "name": "python",
   "nbconvert_exporter": "python",
   "pygments_lexer": "ipython3",
   "version": "3.11.3"
  }
 },
 "nbformat": 4,
 "nbformat_minor": 2
}
