{
 "cells": [
  {
   "cell_type": "code",
   "execution_count": 2,
   "metadata": {},
   "outputs": [
    {
     "ename": "TypeError",
     "evalue": "permutations() takes at most 2 arguments (5 given)",
     "output_type": "error",
     "traceback": [
      "\u001b[1;31m---------------------------------------------------------------------------\u001b[0m",
      "\u001b[1;31mTypeError\u001b[0m                                 Traceback (most recent call last)",
      "Cell \u001b[1;32mIn[2], line 9\u001b[0m\n\u001b[0;32m      7\u001b[0m \u001b[38;5;28;01mfor\u001b[39;00m i \u001b[38;5;129;01min\u001b[39;00m \u001b[38;5;28mrange\u001b[39m(N):\n\u001b[0;32m      8\u001b[0m     word\u001b[38;5;241m=\u001b[39m\u001b[38;5;28minput\u001b[39m()\n\u001b[1;32m----> 9\u001b[0m     All\u001b[38;5;241m=\u001b[39m\u001b[43mpermutations\u001b[49m\u001b[43m(\u001b[49m\u001b[43mBlock\u001b[49m\u001b[43m[\u001b[49m\u001b[38;5;241;43m0\u001b[39;49m\u001b[43m]\u001b[49m\u001b[43m,\u001b[49m\u001b[43mBlock\u001b[49m\u001b[43m[\u001b[49m\u001b[38;5;241;43m1\u001b[39;49m\u001b[43m]\u001b[49m\u001b[43m,\u001b[49m\u001b[43mBlock\u001b[49m\u001b[43m[\u001b[49m\u001b[38;5;241;43m2\u001b[39;49m\u001b[43m]\u001b[49m\u001b[43m,\u001b[49m\u001b[43mBlock\u001b[49m\u001b[43m[\u001b[49m\u001b[38;5;241;43m3\u001b[39;49m\u001b[43m]\u001b[49m\u001b[43m,\u001b[49m\u001b[38;5;28;43mlen\u001b[39;49m\u001b[43m(\u001b[49m\u001b[43mword\u001b[49m\u001b[43m)\u001b[49m\u001b[43m)\u001b[49m\n\u001b[0;32m     10\u001b[0m     \u001b[38;5;28;01mfor\u001b[39;00m i \u001b[38;5;129;01min\u001b[39;00m All:\n\u001b[0;32m     11\u001b[0m         l\u001b[38;5;241m=\u001b[39m\u001b[38;5;28mlist\u001b[39m(i)\n",
      "\u001b[1;31mTypeError\u001b[0m: permutations() takes at most 2 arguments (5 given)"
     ]
    }
   ],
   "source": [
    "# 建立所有可能结果\n",
    "from itertools import permutations\n",
    "\n",
    "N=int(input())\n",
    "Len=4\n",
    "Block=[set(input()) for _ in range(Len)]\n",
    "    \n",
    "for i in range(N):\n",
    "    word=input()\n",
    "    All=permutations(Block[0],Block[1],Block[2],Block[3],len(word))\n",
    "    for i in All:\n",
    "        l=list(i)\n",
    "        all.add(''.join(i))\n",
    "    if word in All:\n",
    "        print('YES')\n",
    "    else:\n",
    "        print('NO')\n",
    "    "
   ]
  },
  {
   "cell_type": "code",
   "execution_count": null,
   "metadata": {},
   "outputs": [],
   "source": [
    "N=int(input())\n",
    "Block=[]\n",
    "Len=4\n",
    "\n",
    "for i in range(Len):\n",
    "    Block.append(input())\n",
    "for i in range(N):\n",
    "    word=input()\n",
    "    All_In=[]\n",
    "    for char in word:\n",
    "        In=[0]*Len\n",
    "        for j in range(Len):\n",
    "            if char in Block[j]:\n",
    "                In[j]=1\n",
    "        All_In.append(In)"
   ]
  },
  {
   "cell_type": "code",
   "execution_count": null,
   "metadata": {},
   "outputs": [],
   "source": [
    "# dfs\n",
    "N = int(input())\n",
    "block = [set(input()) for _ in range(4)]\n",
    "\n",
    "def dfs(word):\n",
    "    if len(word) == 0:\n",
    "        return True\n",
    "    for i in range(4):\n",
    "        if not v[i]:\n",
    "            if word[0] in block[i]:\n",
    "                v[i] = True\n",
    "            if dfs(word[1:]):\n",
    "                return True\n",
    "            # 回溯\n",
    "            v[i] = False\n",
    "    return False\n",
    "\n",
    "for i in range(N):\n",
    "s = input()\n",
    "n = len(s)\n",
    "v = [False] * 4\n",
    "if dfs(s):\n",
    "    print(\"YES\")\n",
    "else:\n",
    "    print(\"NO\")"
   ]
  },
  {
   "cell_type": "code",
   "execution_count": null,
   "metadata": {},
   "outputs": [],
   "source": [
    "# 题解\n",
    "from collections import defaultdict\n",
    "from itertools import permutations\n",
    "\n",
    "a = defaultdict(int)\n",
    "b = defaultdict(int)\n",
    "c = defaultdict(int)\n",
    "d = defaultdict(int)\n",
    "n = int(input())\n",
    "\n",
    "for i in input():\n",
    "    a[i] += 1\n",
    "for i in input():\n",
    "    b[i] += 1\n",
    "for i in input():\n",
    "    c[i] += 1\n",
    "for i in input():\n",
    "    d[i] += 1\n",
    "\n",
    "dicts = [a, b, c, d]\n",
    "\n",
    "def check(word):\n",
    "    for perm in permutations(dicts, len(word)):\n",
    "        for i, d in enumerate(perm):\n",
    "            if word[i] not in d:\n",
    "                break\n",
    "        else:\n",
    "            return 'YES'\n",
    "    else:\n",
    "        return 'NO'\n",
    "\n",
    "for _ in range(n):\n",
    "    word = input()\n",
    "    print(check(word))"
   ]
  }
 ],
 "metadata": {
  "kernelspec": {
   "display_name": "Python 3",
   "language": "python",
   "name": "python3"
  },
  "language_info": {
   "codemirror_mode": {
    "name": "ipython",
    "version": 3
   },
   "file_extension": ".py",
   "mimetype": "text/x-python",
   "name": "python",
   "nbconvert_exporter": "python",
   "pygments_lexer": "ipython3",
   "version": "3.11.3"
  }
 },
 "nbformat": 4,
 "nbformat_minor": 2
}
