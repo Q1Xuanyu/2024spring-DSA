{
 "cells": [
  {
   "cell_type": "code",
   "execution_count": 44,
   "metadata": {},
   "outputs": [
    {
     "name": "stdout",
     "output_type": "stream",
     "text": [
      "5\n",
      "1\n",
      "7\n",
      "1\n",
      "1\n",
      "2\n",
      "1\n",
      "3\n"
     ]
    }
   ],
   "source": [
    "def solution(l,n,m,index=0):\n",
    "    if len(l)>1:\n",
    "        l.pop((index+m-1)%n)\n",
    "        N=(index+m-1)%n\n",
    "        return solution(l,n-1,m,N)\n",
    "    else:\n",
    "        return l[0]\n",
    "\n",
    "# while True:\n",
    "#     try:\n",
    "#         n,m = map(int,input().split())\n",
    "#         print(solution(n,m))\n",
    "#     except EOFError:\n",
    "#         break\n",
    "\n",
    "while True:\n",
    "    n,m = map(int,input().split())\n",
    "    if (n,m)==(0,0):\n",
    "        break\n",
    "    else:\n",
    "        l=list(range(1,n+1))\n",
    "        print(solution(l,n,m))"
   ]
  },
  {
   "cell_type": "code",
   "execution_count": null,
   "metadata": {},
   "outputs": [],
   "source": [
    "# 先使用pop从列表中取出，如果不符合要求再append回列表，相当于构成了一个圈\n",
    "while True:\n",
    "    n, m = map(int, input().split())\n",
    "    if {n,m} == {0}:\n",
    "        break\n",
    "    monkey = [i for i in range(1, n+1)]\n",
    "    index = 0\n",
    "    while len(monkey) != 1:\n",
    "        temp = monkey.pop(0)\n",
    "        index += 1\n",
    "        if index == m:\n",
    "            index = 0\n",
    "            continue\n",
    "        monkey.append(temp)\n",
    "    print(monkey[0])"
   ]
  }
 ],
 "metadata": {
  "kernelspec": {
   "display_name": "Python 3",
   "language": "python",
   "name": "python3"
  },
  "language_info": {
   "name": "python",
   "version": "3.11.3"
  }
 },
 "nbformat": 4,
 "nbformat_minor": 2
}
