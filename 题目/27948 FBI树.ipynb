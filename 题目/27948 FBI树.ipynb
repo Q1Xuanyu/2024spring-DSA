{
 "cells": [
  {
   "cell_type": "code",
   "execution_count": 13,
   "metadata": {},
   "outputs": [
    {
     "name": "stdout",
     "output_type": "stream",
     "text": [
      "IBFBBBFIBFIIIFF"
     ]
    }
   ],
   "source": [
    "class Node():\n",
    "    def __init__(self, val):\n",
    "        self.val = val\n",
    "        self.left = None\n",
    "        self.right = None\n",
    "\n",
    "def build(S):\n",
    "    n=len(S)\n",
    "    if ('0' in S)&('1' in S):\n",
    "        node=Node('F')\n",
    "    elif '0' in S:\n",
    "        node=Node('B')\n",
    "    else:\n",
    "        node=Node('I')\n",
    "    if n>1:\n",
    "        S1=S[:n//2]\n",
    "        S2=S[n//2:]\n",
    "        node.left=build(S1)\n",
    "        node.right=build(S2)\n",
    "    return node\n",
    "    \n",
    "def postorder(node):\n",
    "    if node.left:\n",
    "        postorder(node.left)\n",
    "    if node.right:\n",
    "        postorder(node.right)\n",
    "    print(node.val,end='')\n",
    "\n",
    "N=int(input())\n",
    "S=input()\n",
    "root=build(S)\n",
    "postorder(root)"
   ]
  },
  {
   "cell_type": "code",
   "execution_count": 10,
   "metadata": {},
   "outputs": [
    {
     "name": "stdout",
     "output_type": "stream",
     "text": [
      "IBFBBBFIBFIIIFF\n"
     ]
    }
   ],
   "source": [
    "def construct_FBI_tree(s):\n",
    "    # 判断当前字符串的类型\n",
    "    if '0' in s and '1' in s:\n",
    "        node_type = 'F'\n",
    "    elif '1' in s:\n",
    "        node_type = 'I'\n",
    "    else:\n",
    "        node_type = 'B'\n",
    "    \n",
    "    if len(s) > 1:  # 如果字符串长度大于1，则继续分割\n",
    "        mid = len(s) // 2\n",
    "        # 递归构建左右子树，并将结果按后序遍历拼接\n",
    "        left_tree = construct_FBI_tree(s[:mid])\n",
    "        right_tree = construct_FBI_tree(s[mid:])\n",
    "        return left_tree + right_tree + node_type\n",
    "    else:  # 如果字符串长度为1，直接返回该节点类型\n",
    "        return node_type\n",
    "\n",
    "N = int(input())\n",
    "s = input()\n",
    "print(construct_FBI_tree(s))"
   ]
  }
 ],
 "metadata": {
  "kernelspec": {
   "display_name": "Python 3",
   "language": "python",
   "name": "python3"
  },
  "language_info": {
   "codemirror_mode": {
    "name": "ipython",
    "version": 3
   },
   "file_extension": ".py",
   "mimetype": "text/x-python",
   "name": "python",
   "nbconvert_exporter": "python",
   "pygments_lexer": "ipython3",
   "version": "3.11.3"
  }
 },
 "nbformat": 4,
 "nbformat_minor": 2
}
