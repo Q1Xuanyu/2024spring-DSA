{
 "cells": [
  {
   "cell_type": "code",
   "execution_count": null,
   "metadata": {},
   "outputs": [],
   "source": [
    "from collections import deque\n",
    "\n",
    "MAX_DIRECTIONS = 8\n",
    "dx = [1, 1, 2, 2,-1,-1,-2,-2]\n",
    "dy = [2, -2, 1, -1,-2,2,1,-1]\n",
    "\n",
    "def is_valid_move(x, y):\n",
    "    return 0 <= x < n and 0 <= y < m and not in_queue[x][y]\n",
    "\n",
    "def bfs(start_x, start_y):\n",
    "    queue = deque()\n",
    "    if not in_queue[start_x][start_y]:\n",
    "        queue.append((start_x, start_y))\n",
    "        in_queue[start_x][start_y] = True\n",
    "        while queue:\n",
    "            x, y = queue.popleft()\n",
    "            for i in range(MAX_DIRECTIONS):\n",
    "                next_x = x + dx[i]\n",
    "                next_y = y + dy[i]\n",
    "                if is_valid_move(next_x, next_y):\n",
    "                    in_queue[next_x][next_y] = True\n",
    "                    queue.append((next_x, next_y))\n",
    "\n",
    "N=int(input())\n",
    "for _ in range(N):\n",
    "    n, m = map(int, input().split())\n",
    "    maze = [input() for i in range(n)]\n",
    "    in_queue = [[False] * m for i in range(n)]\n",
    "    size_dif = [0]*m*n\n",
    "\n",
    "    for i in range(n):\n",
    "        for j in range(m):\n",
    "            if maze[i][j]=='.':\n",
    "                in_queue[i][j]=True\n",
    "    \n",
    "    for i in range(n):\n",
    "        for j in range(m):\n",
    "            size_dif[i*m+j]=size(i,j)\n",
    "    print(max(size_dif))"
   ]
  }
 ],
 "metadata": {
  "kernelspec": {
   "display_name": "Python 3",
   "language": "python",
   "name": "python3"
  },
  "language_info": {
   "name": "python",
   "version": "3.11.3"
  }
 },
 "nbformat": 4,
 "nbformat_minor": 2
}
