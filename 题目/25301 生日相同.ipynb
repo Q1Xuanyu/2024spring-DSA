{
 "cells": [
  {
   "cell_type": "code",
   "execution_count": 10,
   "metadata": {},
   "outputs": [
    {
     "name": "stdout",
     "output_type": "stream",
     "text": [
      "3 2 00508192 00508172\n",
      "4 5 00508153 00508023 00509122\n"
     ]
    }
   ],
   "source": [
    "n=int(input())\n",
    "birth={}\n",
    "for i in range(n):\n",
    "    List=input().split()\n",
    "    birthday=(int(List[1]),int(List[2]))\n",
    "    if birthday in birth:\n",
    "        birth[birthday].append(List[0])\n",
    "    else:\n",
    "        birth[birthday]=[List[0]]\n",
    "\n",
    "for i in sorted(birth.keys()):\n",
    "    if len(birth[i])>1:\n",
    "        print(i[0],i[1],' '.join(birth[i]))"
   ]
  }
 ],
 "metadata": {
  "kernelspec": {
   "display_name": "Python 3",
   "language": "python",
   "name": "python3"
  },
  "language_info": {
   "codemirror_mode": {
    "name": "ipython",
    "version": 3
   },
   "file_extension": ".py",
   "mimetype": "text/x-python",
   "name": "python",
   "nbconvert_exporter": "python",
   "pygments_lexer": "ipython3",
   "version": "3.11.3"
  }
 },
 "nbformat": 4,
 "nbformat_minor": 2
}
