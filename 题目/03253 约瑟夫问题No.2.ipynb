{
 "cells": [
  {
   "cell_type": "code",
   "execution_count": 4,
   "metadata": {},
   "outputs": [
    {
     "name": "stdout",
     "output_type": "stream",
     "text": [
      "6,2,7,4,3,5,1,8\n"
     ]
    }
   ],
   "source": [
    "def solution(l,n,m,index=0):\n",
    "    if len(l)>1:\n",
    "        print(l[(index+m-1)%n],end=',')\n",
    "        l.pop((index+m-1)%n)\n",
    "        N=(index+m-1)%n\n",
    "        return solution(l,n-1,m,N)\n",
    "    else:\n",
    "        return l[0]\n",
    "\n",
    "while True:\n",
    "    n,p,m = map(int,input().split())\n",
    "    if (n,p,m)==(0,0,0):\n",
    "        break\n",
    "    else:\n",
    "        l=list(range(1,n+1))\n",
    "        print(solution(l,n,m,p-1))"
   ]
  }
 ],
 "metadata": {
  "kernelspec": {
   "display_name": "Python 3",
   "language": "python",
   "name": "python3"
  },
  "language_info": {
   "codemirror_mode": {
    "name": "ipython",
    "version": 3
   },
   "file_extension": ".py",
   "mimetype": "text/x-python",
   "name": "python",
   "nbconvert_exporter": "python",
   "pygments_lexer": "ipython3",
   "version": "3.11.3"
  }
 },
 "nbformat": 4,
 "nbformat_minor": 2
}
