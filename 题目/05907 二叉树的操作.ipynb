{
 "cells": [
  {
   "cell_type": "code",
   "execution_count": 4,
   "metadata": {},
   "outputs": [
    {
     "name": "stdout",
     "output_type": "stream",
     "text": [
      "1\n"
     ]
    }
   ],
   "source": [
    "# WA\n",
    "\n",
    "def swap(x,y):\n",
    "    global parent\n",
    "    global child\n",
    "    _x=parent[x][0]\n",
    "    _y=parent[y][0]\n",
    "    for i in [0,1]:\n",
    "        for j in [0,1]:\n",
    "            if child[_x][i]==x & child[_y][j]==y:\n",
    "                child[_x][i]=y\n",
    "                child[_y][j]=x\n",
    "                break\n",
    "    mid=parent[x]\n",
    "    parent[x]=parent[y]\n",
    "    parent[y]=mid\n",
    "        \n",
    "def find_leftmost_node(child, u):\n",
    "    while child[u][0] != -1:\n",
    "        u = child[u][0]\n",
    "    return u\n",
    "\n",
    "t=int(input())\n",
    "for _ in range(t):\n",
    "    n,m=map(int,input().split())\n",
    "    child={}\n",
    "    parent={}\n",
    "    for __ in range(n):\n",
    "        x,y,z=map(int,input().split())\n",
    "        child[x]=[y,z]\n",
    "        if y !=-1:\n",
    "            parent[y]=[x,0] \n",
    "        if z !=-1:\n",
    "            parent[z]=[x,1] \n",
    "    for __ in range(m):\n",
    "        com=input().split()\n",
    "        if com[0]=='1':\n",
    "            x=int(com[1])\n",
    "            y=int(com[2])\n",
    "            swap(x,y)\n",
    "        else:\n",
    "            print(find_leftmost_node(child,int(com[1])))\n",
    "            \n",
    "            \n"
   ]
  },
  {
   "cell_type": "code",
   "execution_count": null,
   "metadata": {},
   "outputs": [],
   "source": [
    "def find_leftmost_node(son, u):\n",
    "    while son[u][0] != -1:\n",
    "        u = son[u][0]\n",
    "    return u\n",
    "\n",
    "def main():\n",
    "    t = int(input())\n",
    "    for _ in range(t):\n",
    "        n, m = map(int, input().split())\n",
    "\n",
    "        son = [-1] * (n + 1)  # 存储每个节点的子节点\n",
    "        parent = {}  # 存储每个节点的父节点和方向，{节点: (父节点, 方向)}\n",
    "\n",
    "        for _ in range(n):\n",
    "            i, u, v = map(int, input().split())\n",
    "            son[i] = [u, v]\n",
    "            parent[u] = (i, 0)  # 左子节点\n",
    "            parent[v] = (i, 1)  # 右子节点\n",
    "\n",
    "        for _ in range(m):\n",
    "            s = input().split()\n",
    "            if s[0] == \"1\":\n",
    "                u, v = map(int, s[1:])\n",
    "                fu, diru = parent[u]\n",
    "                fv, dirv = parent[v]\n",
    "                son[fu][diru] = v\n",
    "                son[fv][dirv] = u\n",
    "                parent[v] = (fu, diru)\n",
    "                parent[u] = (fv, dirv)\n",
    "            elif s[0] == \"2\":\n",
    "                u = int(s[1])\n",
    "                root = find_leftmost_node(son, u)\n",
    "                print(root)\n",
    "\n",
    "if __name__ == \"__main__\":\n",
    "    main()"
   ]
  }
 ],
 "metadata": {
  "kernelspec": {
   "display_name": "Python 3",
   "language": "python",
   "name": "python3"
  },
  "language_info": {
   "codemirror_mode": {
    "name": "ipython",
    "version": 3
   },
   "file_extension": ".py",
   "mimetype": "text/x-python",
   "name": "python",
   "nbconvert_exporter": "python",
   "pygments_lexer": "ipython3",
   "version": "3.11.3"
  }
 },
 "nbformat": 4,
 "nbformat_minor": 2
}
