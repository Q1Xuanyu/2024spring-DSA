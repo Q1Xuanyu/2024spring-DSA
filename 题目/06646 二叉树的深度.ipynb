{
 "cells": [
  {
   "cell_type": "code",
   "execution_count": null,
   "metadata": {},
   "outputs": [],
   "source": []
  },
  {
   "cell_type": "code",
   "execution_count": 1,
   "metadata": {},
   "outputs": [
    {
     "name": "stdout",
     "output_type": "stream",
     "text": [
      "2\n"
     ]
    }
   ],
   "source": [
    "class TreeNode:\n",
    "    def __init__(self):\n",
    "        self.left = None\n",
    "        self.right = None\n",
    "\n",
    "def tree_depth(node):\n",
    "    if node is None:\n",
    "        return 0\n",
    "    left_depth = tree_depth(node.left)\n",
    "    right_depth = tree_depth(node.right)\n",
    "    return max(left_depth, right_depth) + 1\n",
    "\n",
    "n = int(input())  # 读取节点数量\n",
    "nodes = [TreeNode() for _ in range(n)]\n",
    "\n",
    "for i in range(n):\n",
    "    left_index, right_index = map(int, input().split())\n",
    "    if left_index != -1:\n",
    "        nodes[i].left = nodes[left_index-1]\n",
    "    if right_index != -1:\n",
    "        nodes[i].right = nodes[right_index-1]\n",
    "\n",
    "root = nodes[0]\n",
    "depth = tree_depth(root)\n",
    "print(depth)"
   ]
  },
  {
   "cell_type": "code",
   "execution_count": null,
   "metadata": {},
   "outputs": [],
   "source": [
    "# 钟明衡 物理学院\n",
    "# 用两个列表来存储每个节点左右子树的索引，判断深度用dfs进行先序遍历\n",
    "ans, l, r = 1, [-1], [-1]\n",
    "\n",
    "\n",
    "def dfs(n, count):\n",
    "    global ans, l, r\n",
    "    if l[n] != -1:\n",
    "        dfs(l[n], count + 1)\n",
    "    if r[n] != -1:\n",
    "        dfs(r[n], count + 1)\n",
    "    ans = max(ans, count)\n",
    "\n",
    "\n",
    "n = int(input())\n",
    "for i in range(n):\n",
    "    a, b = map(int, input().split())\n",
    "    l.append(a)\n",
    "    r.append(b)\n",
    "dfs(1, 1)\n",
    "print(ans)"
   ]
  }
 ],
 "metadata": {
  "kernelspec": {
   "display_name": "Python 3",
   "language": "python",
   "name": "python3"
  },
  "language_info": {
   "codemirror_mode": {
    "name": "ipython",
    "version": 3
   },
   "file_extension": ".py",
   "mimetype": "text/x-python",
   "name": "python",
   "nbconvert_exporter": "python",
   "pygments_lexer": "ipython3",
   "version": "3.11.3"
  }
 },
 "nbformat": 4,
 "nbformat_minor": 2
}
