{
 "cells": [
  {
   "cell_type": "code",
   "execution_count": 5,
   "metadata": {},
   "outputs": [
    {
     "name": "stdout",
     "output_type": "stream",
     "text": [
      "2\n",
      "2\n"
     ]
    }
   ],
   "source": [
    "stack=[]\n",
    "mini=[]\n",
    "while True:\n",
    "    try:\n",
    "        s=input()\n",
    "        if s=='pop':\n",
    "            try:\n",
    "                stack.pop()\n",
    "                mini.pop()\n",
    "            except:\n",
    "                pass\n",
    "        elif s=='min':\n",
    "            try:\n",
    "                print(mini[-1])\n",
    "            except:\n",
    "                pass\n",
    "        else:\n",
    "            s=int(s.split()[1])\n",
    "            stack.append(s)\n",
    "            if len(mini)==0:\n",
    "                mini.append(s)\n",
    "            elif mini[-1]>=s:\n",
    "                mini.append(s)\n",
    "            else:\n",
    "                mini.append(mini[-1])\n",
    "    except:\n",
    "        break"
   ]
  }
 ],
 "metadata": {
  "kernelspec": {
   "display_name": "Python 3",
   "language": "python",
   "name": "python3"
  },
  "language_info": {
   "codemirror_mode": {
    "name": "ipython",
    "version": 3
   },
   "file_extension": ".py",
   "mimetype": "text/x-python",
   "name": "python",
   "nbconvert_exporter": "python",
   "pygments_lexer": "ipython3",
   "version": "3.11.3"
  }
 },
 "nbformat": 4,
 "nbformat_minor": 2
}
