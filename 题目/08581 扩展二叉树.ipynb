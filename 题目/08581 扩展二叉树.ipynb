{
 "cells": [
  {
   "cell_type": "code",
   "execution_count": null,
   "metadata": {},
   "outputs": [],
   "source": [
    "class BinaryTreeNode:\n",
    "    def __init__(self, value):\n",
    "        self.value = value\n",
    "        self.left = None\n",
    "        self.right = None\n",
    "\n",
    "def build_tree(lst):\n",
    "    if not lst:\n",
    "        return None\n",
    "    value = lst.pop()\n",
    "    if value == '.':\n",
    "        return None\n",
    "    root = BinaryTreeNode(value)\n",
    "    root.left = build_tree(lst)\n",
    "    root.right = build_tree(lst)\n",
    "    return root\n",
    "\n",
    "def inorder(root):\n",
    "    if not root:\n",
    "        return []\n",
    "    left = inorder(root.left)\n",
    "    right = inorder(root.right)\n",
    "    return left + [root.value] + right\n",
    "\n",
    "def postorder(root):\n",
    "    if not root:\n",
    "        return []\n",
    "    left = postorder(root.left)\n",
    "    right = postorder(root.right)\n",
    "    return left + right + [root.value]\n",
    "\n",
    "lst = list(input())\n",
    "root = build_tree(lst[::-1])\n",
    "in_order_result = inorder(root)\n",
    "post_order_result = postorder(root)\n",
    "print(''.join(in_order_result))\n",
    "print(''.join(post_order_result))"
   ]
  }
 ],
 "metadata": {
  "kernelspec": {
   "display_name": "Python 3",
   "language": "python",
   "name": "python3"
  },
  "language_info": {
   "name": "python",
   "version": "3.11.3"
  }
 },
 "nbformat": 4,
 "nbformat_minor": 2
}
