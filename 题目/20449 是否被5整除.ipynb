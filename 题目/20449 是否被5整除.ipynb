{
 "cells": [
  {
   "cell_type": "code",
   "execution_count": 10,
   "metadata": {},
   "outputs": [
    {
     "name": "stdout",
     "output_type": "stream",
     "text": [
      "100\n"
     ]
    }
   ],
   "source": [
    "def Trans(N_i):\n",
    "    N=0\n",
    "    for i in range(len(N_i)):\n",
    "        N+=int(N_i[i])*2**(len(N_i)-1-i)\n",
    "    return N\n",
    "\n",
    "A=input()\n",
    "answer=[]\n",
    "for i in range(len(A)):\n",
    "    N_i=A[0:i+1]\n",
    "    if Trans(N_i)%5==0:\n",
    "        answer.append('1')\n",
    "    else:\n",
    "        answer.append('0')\n",
    "print(''.join(answer))\n",
    "        "
   ]
  }
 ],
 "metadata": {
  "kernelspec": {
   "display_name": "Python 3",
   "language": "python",
   "name": "python3"
  },
  "language_info": {
   "codemirror_mode": {
    "name": "ipython",
    "version": 3
   },
   "file_extension": ".py",
   "mimetype": "text/x-python",
   "name": "python",
   "nbconvert_exporter": "python",
   "pygments_lexer": "ipython3",
   "version": "3.11.3"
  }
 },
 "nbformat": 4,
 "nbformat_minor": 2
}
