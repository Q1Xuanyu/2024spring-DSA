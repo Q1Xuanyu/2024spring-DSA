{
 "cells": [
  {
   "cell_type": "code",
   "execution_count": 3,
   "metadata": {},
   "outputs": [
    {
     "name": "stdout",
     "output_type": "stream",
     "text": [
      "yes\n",
      "no\n",
      "no\n"
     ]
    }
   ],
   "source": [
    "n,x,y=map(int,input().split())\n",
    "\n",
    "score={}\n",
    "for i in range(n):\n",
    "    l=input().split()\n",
    "    stu=l[1]\n",
    "    course=(l[0],int(l[2]))\n",
    "    if stu in score:\n",
    "        score[stu].append(course)\n",
    "    else:\n",
    "        score[stu]=[course]\n",
    "\n",
    "m=int(input())\n",
    "for i in range(m):\n",
    "    stu=input()\n",
    "    n_course=len(score[stu])\n",
    "    l_score=[x[1] for x in score[stu]]\n",
    "    if (n_course>=x) & (sum(l_score)>y*n_course):\n",
    "        print('yes')\n",
    "    else:\n",
    "        print('no')"
   ]
  }
 ],
 "metadata": {
  "kernelspec": {
   "display_name": "Python 3",
   "language": "python",
   "name": "python3"
  },
  "language_info": {
   "codemirror_mode": {
    "name": "ipython",
    "version": 3
   },
   "file_extension": ".py",
   "mimetype": "text/x-python",
   "name": "python",
   "nbconvert_exporter": "python",
   "pygments_lexer": "ipython3",
   "version": "3.11.3"
  }
 },
 "nbformat": 4,
 "nbformat_minor": 2
}
