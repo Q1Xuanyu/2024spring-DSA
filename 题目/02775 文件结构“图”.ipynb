{
 "cells": [
  {
   "cell_type": "code",
   "execution_count": 23,
   "metadata": {},
   "outputs": [
    {
     "name": "stdout",
     "output_type": "stream",
     "text": [
      "DATA SET 1:\n",
      "ROOT\n",
      "|     dir3\n",
      "|     |     dir2\n",
      "|     file1\n",
      "|     file2\n",
      "|     dir1\n",
      "file1\n",
      "file2\n",
      "file3\n",
      "file4\n",
      "\n",
      "DATA SET 2:\n",
      "ROOT\n",
      "file1\n",
      "file2\n",
      "\n"
     ]
    }
   ],
   "source": [
    "class TreeNode:\n",
    "    def __init__(self,value):\n",
    "        self.value=value\n",
    "        self.children=[]\n",
    "\n",
    "def parse_tree(s):\n",
    "    stack=[]\n",
    "    node=None\n",
    "    for char in s:\n",
    "        if not (char in ['(',')',',']):\n",
    "            node=TreeNode(char)\n",
    "            if stack:\n",
    "                stack[-1].children.append(node)\n",
    "        elif char=='(':\n",
    "            if node:\n",
    "                stack.append(node)\n",
    "                node=None\n",
    "        elif char==')':\n",
    "            if stack:\n",
    "                node=stack.pop()\n",
    "    return node\n",
    "\n",
    "def sorted_children(children):\n",
    "    l=[]\n",
    "    children_value=[x.value for x in children]\n",
    "    for i in range(len(children_value)):\n",
    "        if children_value[i][0]=='d':\n",
    "            l.append(children[i])\n",
    "    l.extend(sorted([x for x in children if x.value[0]=='f'],key=lambda x:x.value))\n",
    "    return l\n",
    "\n",
    "def printorder(node):\n",
    "    node.children=sorted_children(node.children)\n",
    "    if node.value[0]=='d':\n",
    "        output=['|     '+node.value+'\\n']\n",
    "        for child in node.children:\n",
    "            output.extend(['|     '+x for x in printorder(child)])\n",
    "    else:\n",
    "        output = [node.value+'\\n']\n",
    "        for child in node.children:\n",
    "            output.extend(printorder(child))\n",
    "    return output\n",
    "\n",
    "s=['ROOT','(']\n",
    "i=1\n",
    "x=''\n",
    "while x!='#':\n",
    "    x=input()\n",
    "    if x=='*':\n",
    "        s.append(')')\n",
    "        root=parse_tree(s)\n",
    "        print(f'DATA SET {i}:')\n",
    "        print(''.join(printorder(root)))\n",
    "        i+=1\n",
    "        s=['ROOT','(']\n",
    "    elif x[0]=='f':\n",
    "        s.extend([x,','])\n",
    "    elif x[0]=='d':\n",
    "        s.extend([x,'('])\n",
    "    elif x==']':\n",
    "        s.append(')')"
   ]
  },
  {
   "cell_type": "code",
   "execution_count": 30,
   "metadata": {},
   "outputs": [
    {
     "ename": "IndexError",
     "evalue": "list index out of range",
     "output_type": "error",
     "traceback": [
      "\u001b[1;31m---------------------------------------------------------------------------\u001b[0m",
      "\u001b[1;31mIndexError\u001b[0m                                Traceback (most recent call last)",
      "Cell \u001b[1;32mIn[30], line 1\u001b[0m\n\u001b[1;32m----> 1\u001b[0m \u001b[43mroot\u001b[49m\u001b[38;5;241;43m.\u001b[39;49m\u001b[43mchildren\u001b[49m\u001b[43m[\u001b[49m\u001b[38;5;241;43m2\u001b[39;49m\u001b[43m]\u001b[49m\u001b[38;5;241m.\u001b[39mvalue\n",
      "\u001b[1;31mIndexError\u001b[0m: list index out of range"
     ]
    }
   ],
   "source": [
    "root.children[2].value"
   ]
  },
  {
   "cell_type": "code",
   "execution_count": null,
   "metadata": {},
   "outputs": [],
   "source": [
    "# 夏天明，元培学院\n",
    "from sys import exit\n",
    "\n",
    "class dir:\n",
    "    def __init__(self, dname):\n",
    "        self.name = dname\n",
    "        self.dirs = []\n",
    "        self.files = []\n",
    "    \n",
    "    def getGraph(self):\n",
    "        g = [self.name]\n",
    "        for d in self.dirs:\n",
    "            subg = d.getGraph()\n",
    "            g.extend([\"|     \" + s for s in subg])\n",
    "        for f in sorted(self.files):\n",
    "            g.append(f)\n",
    "        return g\n",
    "\n",
    "n = 0\n",
    "while True:\n",
    "    n += 1\n",
    "    stack = [dir(\"ROOT\")]\n",
    "    while (s := input()) != \"*\":\n",
    "        if s == \"#\": exit(0)\n",
    "        if s[0] == 'f':\n",
    "            stack[-1].files.append(s)\n",
    "        elif s[0] == 'd':\n",
    "            stack.append(dir(s))\n",
    "            stack[-2].dirs.append(stack[-1])\n",
    "        else:\n",
    "            stack.pop()\n",
    "    print(f\"DATA SET {n}:\")\n",
    "    print(*stack[0].getGraph(), sep='\\n')\n",
    "    print()"
   ]
  }
 ],
 "metadata": {
  "kernelspec": {
   "display_name": "Python 3",
   "language": "python",
   "name": "python3"
  },
  "language_info": {
   "codemirror_mode": {
    "name": "ipython",
    "version": 3
   },
   "file_extension": ".py",
   "mimetype": "text/x-python",
   "name": "python",
   "nbconvert_exporter": "python",
   "pygments_lexer": "ipython3",
   "version": "3.11.3"
  }
 },
 "nbformat": 4,
 "nbformat_minor": 2
}
