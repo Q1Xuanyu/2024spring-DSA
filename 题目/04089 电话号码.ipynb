{
 "cells": [
  {
   "cell_type": "code",
   "execution_count": null,
   "metadata": {},
   "outputs": [],
   "source": [
    "class TrieNode:\n",
    "    def __init__(self):\n",
    "        self.child={}\n",
    "\n",
    "\n",
    "class Trie:\n",
    "    def __init__(self):\n",
    "        self.root = TrieNode()\n",
    "\n",
    "    def insert(self, nums):\n",
    "        curnode = self.root\n",
    "        for x in nums:\n",
    "            if x not in curnode.child:\n",
    "                curnode.child[x] = TrieNode()\n",
    "            curnode=curnode.child[x]\n",
    "\n",
    "    def search(self, num):\n",
    "        curnode = self.root\n",
    "        for x in num:\n",
    "            if x not in curnode.child:\n",
    "                return 0\n",
    "            curnode = curnode.child[x]\n",
    "        return 1\n",
    "\n",
    "\n",
    "t = int(input())\n",
    "for _ in range(t):\n",
    "    n = int(input())\n",
    "    nums = []\n",
    "    for _ in range(n):\n",
    "        nums.append(str(input()))\n",
    "    nums.sort(reverse=True)\n",
    "    s = 0\n",
    "    trie = Trie()\n",
    "    for num in nums:\n",
    "        s += trie.search(num)\n",
    "        trie.insert(num)\n",
    "    if s > 0:\n",
    "        print('NO')\n",
    "    else:\n",
    "        print('YES')"
   ]
  },
  {
   "cell_type": "code",
   "execution_count": 4,
   "metadata": {},
   "outputs": [
    {
     "name": "stdout",
     "output_type": "stream",
     "text": [
      "NO\n",
      "YES\n"
     ]
    }
   ],
   "source": [
    "t=int(input())\n",
    "for _ in range(t):\n",
    "    n=int(input())\n",
    "    phones=[]\n",
    "    for __ in range(n):\n",
    "        phones.append(input())\n",
    "    phones.sort()\n",
    "    \n",
    "    flag=1\n",
    "    for i in range(n-1):\n",
    "        if phones[i + 1].startswith(phones[i]):\n",
    "            flag=0\n",
    "            break\n",
    "    if flag:\n",
    "        print('YES')\n",
    "    else:\n",
    "        print('NO')"
   ]
  }
 ],
 "metadata": {
  "kernelspec": {
   "display_name": "Python 3",
   "language": "python",
   "name": "python3"
  },
  "language_info": {
   "codemirror_mode": {
    "name": "ipython",
    "version": 3
   },
   "file_extension": ".py",
   "mimetype": "text/x-python",
   "name": "python",
   "nbconvert_exporter": "python",
   "pygments_lexer": "ipython3",
   "version": "3.11.3"
  }
 },
 "nbformat": 4,
 "nbformat_minor": 2
}
