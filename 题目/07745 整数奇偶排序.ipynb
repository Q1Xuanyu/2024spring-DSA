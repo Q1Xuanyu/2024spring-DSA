{
 "cells": [
  {
   "cell_type": "code",
   "execution_count": 5,
   "metadata": {},
   "outputs": [
    {
     "name": "stdout",
     "output_type": "stream",
     "text": [
      "47 13 11 7 3 0 4 12 34 98\n"
     ]
    }
   ],
   "source": [
    "List=list(map(int,input().split()))\n",
    "Odd=[]\n",
    "Even=[]\n",
    "for n in List:\n",
    "    if n%2==1:\n",
    "        Odd.append(n)\n",
    "    else:\n",
    "        Even.append(n)\n",
    "Odd.sort(reverse=True)\n",
    "Even.sort()\n",
    "print(' '.join(map(str,Odd+Even)))"
   ]
  }
 ],
 "metadata": {
  "kernelspec": {
   "display_name": "Python 3",
   "language": "python",
   "name": "python3"
  },
  "language_info": {
   "codemirror_mode": {
    "name": "ipython",
    "version": 3
   },
   "file_extension": ".py",
   "mimetype": "text/x-python",
   "name": "python",
   "nbconvert_exporter": "python",
   "pygments_lexer": "ipython3",
   "version": "3.11.3"
  }
 },
 "nbformat": 4,
 "nbformat_minor": 2
}
