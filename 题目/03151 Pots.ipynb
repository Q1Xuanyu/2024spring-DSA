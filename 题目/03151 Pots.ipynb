{
 "cells": [
  {
   "cell_type": "code",
   "execution_count": 16,
   "metadata": {},
   "outputs": [
    {
     "name": "stdout",
     "output_type": "stream",
     "text": [
      "6\n",
      "FILL(2)\n",
      "POUR(2,1)\n",
      "DROP(1)\n",
      "POUR(2,1)\n",
      "FILL(2)\n",
      "POUR(2,1)\n"
     ]
    }
   ],
   "source": [
    "from collections import deque\n",
    "\n",
    "A,B,C=map(int,input().split())\n",
    "\n",
    "def bfs(start_x, start_y):\n",
    "    MAX_DIRECTIONS = 6\n",
    "    action=['FILL(1)','FILL(2)','DROP(1)','DROP(2)','POUR(1,2)','POUR(2,1)']\n",
    "    class_queue=[[[]]*(B+1) for _ in range(A+1)]\n",
    "    queue = deque()\n",
    "    if not in_queue[start_x][start_y]:\n",
    "        queue.append((start_x, start_y))\n",
    "        in_queue[start_x][start_y] = True\n",
    "        while queue:\n",
    "            x, y = queue.popleft()\n",
    "            for i in range(MAX_DIRECTIONS):\n",
    "                dx = [A,x,0,x,max(0,x+y-B),min(x+y,A)]\n",
    "                dy = [y,B,y,0,min(y+x,B),max(0,x+y-A)]\n",
    "                next_x = dx[i]\n",
    "                next_y = dy[i]\n",
    "                if not in_queue[next_x][next_y]:\n",
    "                    in_queue[next_x][next_y] = True\n",
    "                    queue.append((next_x, next_y))\n",
    "                    class_queue[next_x][next_y]=class_queue[x][y].copy() # 注意要浅复制\n",
    "                    class_queue[next_x][next_y].append(action[i])\n",
    "                    if (next_x==C) | (next_y==C):\n",
    "                        return [str(len(class_queue[next_x][next_y]))]+class_queue[next_x][next_y]\n",
    "        return ['impossible']\n",
    "\n",
    "in_queue = [[False] * (B+1) for i in range(A+1)]\n",
    "print('\\n'.join(bfs(0,0)))"
   ]
  }
 ],
 "metadata": {
  "kernelspec": {
   "display_name": "Python 3",
   "language": "python",
   "name": "python3"
  },
  "language_info": {
   "codemirror_mode": {
    "name": "ipython",
    "version": 3
   },
   "file_extension": ".py",
   "mimetype": "text/x-python",
   "name": "python",
   "nbconvert_exporter": "python",
   "pygments_lexer": "ipython3",
   "version": "3.11.3"
  }
 },
 "nbformat": 4,
 "nbformat_minor": 2
}
