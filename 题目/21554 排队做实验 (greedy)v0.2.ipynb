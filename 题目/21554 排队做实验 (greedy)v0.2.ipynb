{
 "cells": [
  {
   "cell_type": "code",
   "execution_count": 12,
   "metadata": {},
   "outputs": [
    {
     "name": "stdout",
     "output_type": "stream",
     "text": [
      "8 16 2 15 18 5 13 1 12 14 11 9 17 7 10 4 3 6 \n",
      "3750.89\n"
     ]
    }
   ],
   "source": [
    "n=int(input())\n",
    "T=[*map(int,input().split())]\n",
    "T=[(T[i],i+1) for i in range(n)]\n",
    "T=sorted(T,key=lambda x:x[0])\n",
    "\n",
    "wait=0\n",
    "for i in range(n):\n",
    "    print(T[i][1],end=' ')\n",
    "    wait+=T[i][0]*(n-1-i)\n",
    "print(f'\\n{wait/n:0.2f}')"
   ]
  },
  {
   "cell_type": "code",
   "execution_count": null,
   "metadata": {},
   "outputs": [],
   "source": [
    "n = int(input())\n",
    "*L, = map(int,input().split())\n",
    "od = sorted(range(1, n+1), key = lambda x: L[x - 1])\n",
    "L.sort()\n",
    "t = sum((n-i-1) * L[i] for i in range(n)) / n\n",
    "\n",
    "print(*od)\n",
    "print('{:.2f}'.format(t))"
   ]
  }
 ],
 "metadata": {
  "kernelspec": {
   "display_name": "Python 3",
   "language": "python",
   "name": "python3"
  },
  "language_info": {
   "codemirror_mode": {
    "name": "ipython",
    "version": 3
   },
   "file_extension": ".py",
   "mimetype": "text/x-python",
   "name": "python",
   "nbconvert_exporter": "python",
   "pygments_lexer": "ipython3",
   "version": "3.11.3"
  }
 },
 "nbformat": 4,
 "nbformat_minor": 2
}
