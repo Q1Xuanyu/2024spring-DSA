{
 "cells": [
  {
   "cell_type": "code",
   "execution_count": null,
   "metadata": {},
   "outputs": [],
   "source": []
  },
  {
   "cell_type": "code",
   "execution_count": 2,
   "metadata": {},
   "outputs": [
    {
     "name": "stdout",
     "output_type": "stream",
     "text": [
      "6\n"
     ]
    }
   ],
   "source": [
    "# dp算法\n",
    "\n",
    "n = int(input())\n",
    "arr = [*map(int,input().split())]\n",
    "dp = [1 for _ in range(n)]\n",
    "for i in range(1, n):\n",
    "    for j in range(i):\n",
    "        if arr[i] <= arr[j]:\n",
    "            dp[i] = max(dp[j] + 1, dp[i])\n",
    "print(max(dp))"
   ]
  },
  {
   "cell_type": "code",
   "execution_count": null,
   "metadata": {},
   "outputs": [],
   "source": [
    "# dp算法\n",
    "\n",
    "k=int(input())\n",
    "l=list(map(int,input().split()))\n",
    "dp=[0]*k\n",
    "for i in range(k-1,-1,-1):\n",
    "    maxn=1\n",
    "    for j in range(k-1,i,-1):\n",
    "        if l[i]>=l[j] and dp[j]+1>maxn:\n",
    "            maxn=dp[j]+1\n",
    "    dp[i]=maxn\n",
    "print(max(dp))"
   ]
  },
  {
   "cell_type": "code",
   "execution_count": 3,
   "metadata": {},
   "outputs": [
    {
     "name": "stdout",
     "output_type": "stream",
     "text": [
      "6\n"
     ]
    }
   ],
   "source": [
    "k=int(input())\n",
    "daodan=list(map(int,input().split()))\n",
    "nums=[[] for _ in range(k)]\n",
    "t=1\n",
    "def dfs_bomb(x,y):\n",
    "    global t\n",
    "    if y==k-1:\n",
    "        nums[x].append(t)\n",
    "        return\n",
    "    for i in range(y+1,k):\n",
    "        if daodan[i]<=daodan[y]:\n",
    "            t+=1\n",
    "            dfs_bomb(x,i)\n",
    "            t-=1\n",
    "for j in range(k):\n",
    "    dfs_bomb(j,j)\n",
    "    t=1\n",
    "nums2=[max(nums[i]) for i in range(k)]\n",
    "print(max(nums2))"
   ]
  }
 ],
 "metadata": {
  "kernelspec": {
   "display_name": "Python 3",
   "language": "python",
   "name": "python3"
  },
  "language_info": {
   "codemirror_mode": {
    "name": "ipython",
    "version": 3
   },
   "file_extension": ".py",
   "mimetype": "text/x-python",
   "name": "python",
   "nbconvert_exporter": "python",
   "pygments_lexer": "ipython3",
   "version": "3.11.3"
  }
 },
 "nbformat": 4,
 "nbformat_minor": 2
}
