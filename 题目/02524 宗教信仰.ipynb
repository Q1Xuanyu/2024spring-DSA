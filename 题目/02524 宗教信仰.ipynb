{
 "cells": [
  {
   "cell_type": "code",
   "execution_count": null,
   "metadata": {},
   "outputs": [],
   "source": []
  },
  {
   "cell_type": "code",
   "execution_count": 3,
   "metadata": {},
   "outputs": [
    {
     "name": "stdout",
     "output_type": "stream",
     "text": [
      "Case 1: 7\n"
     ]
    }
   ],
   "source": [
    "def find(x):\n",
    "    if parent[x] != x: # 如果不是根结点，继续循环\n",
    "        parent[x] = find(parent[x])\n",
    "    return parent[x]\n",
    "\n",
    "def union(x, y):\n",
    "    parent[find(x)] = find(y)\n",
    "\n",
    "Case=0\n",
    "while True:\n",
    "    Case+=1\n",
    "    n, m = map(int, input().split())\n",
    "    if (n,m)==(0,0):\n",
    "        break\n",
    "    parent = list(range(n + 1))\t# parent[i] == i，则说明元素i是该集合的根结点\n",
    "\n",
    "    for _ in range(m):\n",
    "        a, b = map(int, input().split())\n",
    "        union(a, b)\n",
    "\n",
    "    classes = set(find(x) for x in range(1, n + 1))\n",
    "    print(f'Case {Case}: {len(classes)}')"
   ]
  }
 ],
 "metadata": {
  "kernelspec": {
   "display_name": "Python 3",
   "language": "python",
   "name": "python3"
  },
  "language_info": {
   "codemirror_mode": {
    "name": "ipython",
    "version": 3
   },
   "file_extension": ".py",
   "mimetype": "text/x-python",
   "name": "python",
   "nbconvert_exporter": "python",
   "pygments_lexer": "ipython3",
   "version": "3.11.3"
  }
 },
 "nbformat": 4,
 "nbformat_minor": 2
}
