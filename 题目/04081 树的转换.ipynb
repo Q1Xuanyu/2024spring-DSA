{
 "cells": [
  {
   "cell_type": "code",
   "execution_count": null,
   "metadata": {},
   "outputs": [],
   "source": [
    "class TreeNode:\n",
    "    def __init__(self):\n",
    "        self.children = []\n",
    "        self.first_child = None\n",
    "        self.next_sib = None\n",
    "\n",
    "def build(seq):\n",
    "    root = TreeNode()\n",
    "    stack = [root]\n",
    "    depth = 0\n",
    "    for act in seq:\n",
    "        cur_node = stack[-1]\n",
    "        if act == 'd':\n",
    "            new_node = TreeNode()\n",
    "            if not cur_node.children:\n",
    "                cur_node.first_child = new_node\n",
    "            else:\n",
    "                cur_node.children[-1].next_sib = new_node\n",
    "            cur_node.children.append(new_node)\n",
    "            stack.append(new_node)\n",
    "            depth = max(depth, len(stack) - 1)\n",
    "        else:\n",
    "            stack.pop()\n",
    "    return root, depth\n",
    "\n",
    "def cal_h_bin(node):\n",
    "    if not node:\n",
    "         return -1\n",
    "    return max(cal_h_bin(node.first_child), cal_h_bin(node.next_sib)) + 1\n",
    "\n",
    "seq = input()\n",
    "root, h_orig = build(seq)\n",
    "h_bin = cal_h_bin(root)\n",
    "print(f'{h_orig} => {h_bin}')"
   ]
  }
 ],
 "metadata": {
  "kernelspec": {
   "display_name": "Python 3",
   "language": "python",
   "name": "python3"
  },
  "language_info": {
   "name": "python",
   "version": "3.11.3"
  }
 },
 "nbformat": 4,
 "nbformat_minor": 2
}
