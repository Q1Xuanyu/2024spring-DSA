{
 "cells": [
  {
   "cell_type": "code",
   "execution_count": 2,
   "metadata": {},
   "outputs": [
    {
     "name": "stdout",
     "output_type": "stream",
     "text": [
      "7\n"
     ]
    }
   ],
   "source": [
    "M,N=map(int,input().split())\n",
    "queue=[-1]*M\n",
    "l=input().split()\n",
    "translate=0\n",
    "for i in range(N):\n",
    "    if l[i] in queue:\n",
    "        continue\n",
    "    else:\n",
    "        queue.pop(0)\n",
    "        queue.append(l[i])\n",
    "        translate+=1\n",
    "print(translate)"
   ]
  }
 ],
 "metadata": {
  "kernelspec": {
   "display_name": "Python 3",
   "language": "python",
   "name": "python3"
  },
  "language_info": {
   "codemirror_mode": {
    "name": "ipython",
    "version": 3
   },
   "file_extension": ".py",
   "mimetype": "text/x-python",
   "name": "python",
   "nbconvert_exporter": "python",
   "pygments_lexer": "ipython3",
   "version": "3.11.3"
  }
 },
 "nbformat": 4,
 "nbformat_minor": 2
}
