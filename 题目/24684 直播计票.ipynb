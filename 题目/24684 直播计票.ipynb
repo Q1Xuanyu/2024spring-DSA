{
 "cells": [
  {
   "cell_type": "code",
   "execution_count": 34,
   "metadata": {},
   "outputs": [
    {
     "name": "stdout",
     "output_type": "stream",
     "text": [
      "3 10\n"
     ]
    }
   ],
   "source": [
    "List=list(map(int,input().split()))\n",
    "Set=set(List)\n",
    "Count={}\n",
    "for i in Set:\n",
    "    if List.count(i) in Count:\n",
    "        Count[List.count(i)]+=[i]\n",
    "    else:\n",
    "        Count[List.count(i)]=[i]\n",
    "Max=Count[max(Count.keys())]\n",
    "Max.sort()\n",
    "print(\" \".join(map(str,Max)))"
   ]
  }
 ],
 "metadata": {
  "kernelspec": {
   "display_name": "Python 3",
   "language": "python",
   "name": "python3"
  },
  "language_info": {
   "codemirror_mode": {
    "name": "ipython",
    "version": 3
   },
   "file_extension": ".py",
   "mimetype": "text/x-python",
   "name": "python",
   "nbconvert_exporter": "python",
   "pygments_lexer": "ipython3",
   "version": "3.11.3"
  }
 },
 "nbformat": 4,
 "nbformat_minor": 2
}
